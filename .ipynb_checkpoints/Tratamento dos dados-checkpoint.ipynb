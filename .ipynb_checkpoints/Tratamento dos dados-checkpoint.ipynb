{
 "cells": [
  {
   "cell_type": "markdown",
   "id": "74f1dc2c",
   "metadata": {},
   "source": [
    "## Bibliotecas necessárias para o desenvolvimento do Projeto"
   ]
  },
  {
   "cell_type": "code",
   "execution_count": 3,
   "id": "d2c7c850",
   "metadata": {},
   "outputs": [],
   "source": [
    "import pandas as pd\n",
    "import matplotlib.pyplot as plt\n",
    "import seaborn as sns\n",
    "import numpy as np\n",
    "from datetime import date"
   ]
  },
  {
   "cell_type": "markdown",
   "id": "59b4b50c",
   "metadata": {},
   "source": [
    "## Primeira análise é varificar se não temos dados faltando em todo nossos dados e quais são os tipos de dados de cada coluna."
   ]
  },
  {
   "cell_type": "code",
   "execution_count": 4,
   "id": "30ba0dce",
   "metadata": {},
   "outputs": [
    {
     "name": "stdout",
     "output_type": "stream",
     "text": [
      "<class 'pandas.core.frame.DataFrame'>\n",
      "RangeIndex: 32753 entries, 0 to 32752\n",
      "Data columns (total 8 columns):\n",
      " #   Column     Non-Null Count  Dtype         \n",
      "---  ------     --------------  -----         \n",
      " 0   ID         32753 non-null  object        \n",
      " 1   ProductID  32753 non-null  object        \n",
      " 2   ClientID   32753 non-null  int64         \n",
      " 3   Discount   32753 non-null  float64       \n",
      " 4   UnitPrice  32753 non-null  float64       \n",
      " 5   Quantity   32753 non-null  int64         \n",
      " 6   StoreID    32753 non-null  int64         \n",
      " 7   Date       32753 non-null  datetime64[ns]\n",
      "dtypes: datetime64[ns](1), float64(2), int64(3), object(2)\n",
      "memory usage: 2.0+ MB\n"
     ]
    },
    {
     "data": {
      "text/plain": [
       "None"
      ]
     },
     "metadata": {},
     "output_type": "display_data"
    },
    {
     "name": "stdout",
     "output_type": "stream",
     "text": [
      "<class 'pandas.core.frame.DataFrame'>\n",
      "RangeIndex: 73 entries, 0 to 72\n",
      "Data columns (total 3 columns):\n",
      " #   Column  Non-Null Count  Dtype \n",
      "---  ------  --------------  ----- \n",
      " 0   ID      73 non-null     object\n",
      " 1   Name    73 non-null     object\n",
      " 2   Size    73 non-null     object\n",
      "dtypes: object(3)\n",
      "memory usage: 1.8+ KB\n"
     ]
    },
    {
     "data": {
      "text/plain": [
       "None"
      ]
     },
     "metadata": {},
     "output_type": "display_data"
    },
    {
     "name": "stdout",
     "output_type": "stream",
     "text": [
      "<class 'pandas.core.frame.DataFrame'>\n",
      "RangeIndex: 13650 entries, 0 to 13649\n",
      "Data columns (total 5 columns):\n",
      " #   Column       Non-Null Count  Dtype         \n",
      "---  ------       --------------  -----         \n",
      " 0   ID           13650 non-null  int64         \n",
      " 1   City         13650 non-null  object        \n",
      " 2   State        13650 non-null  object        \n",
      " 3   DateOfBirth  13650 non-null  datetime64[ns]\n",
      " 4   Sex          13650 non-null  object        \n",
      "dtypes: datetime64[ns](1), int64(1), object(3)\n",
      "memory usage: 533.3+ KB\n"
     ]
    },
    {
     "data": {
      "text/plain": [
       "None"
      ]
     },
     "metadata": {},
     "output_type": "display_data"
    },
    {
     "name": "stdout",
     "output_type": "stream",
     "text": [
      "<class 'pandas.core.frame.DataFrame'>\n",
      "RangeIndex: 7 entries, 0 to 6\n",
      "Data columns (total 3 columns):\n",
      " #   Column  Non-Null Count  Dtype \n",
      "---  ------  --------------  ----- \n",
      " 0   ID      7 non-null      int64 \n",
      " 1   Name    7 non-null      object\n",
      " 2   State   7 non-null      object\n",
      "dtypes: int64(1), object(2)\n",
      "memory usage: 296.0+ bytes\n"
     ]
    },
    {
     "data": {
      "text/plain": [
       "None"
      ]
     },
     "metadata": {},
     "output_type": "display_data"
    }
   ],
   "source": [
    "aba = pd.read_excel('dados/Base de Dados - Questionário.xlsx', sheet_name=0, usecols=[2,3,4,5,6,7,8,9], skiprows=4)\n",
    "aba1 = pd.read_excel('dados/Base de Dados - Questionário.xlsx', sheet_name=2)\n",
    "aba2 = pd.read_excel('dados/Base de Dados - Questionário.xlsx', sheet_name=3)\n",
    "aba3 = pd.read_excel('dados/Base de Dados - Questionário.xlsx', sheet_name=4)\n",
    "display(aba.info())\n",
    "display(aba1.info())\n",
    "display(aba2.info())\n",
    "display(aba3.info())"
   ]
  },
  {
   "cell_type": "markdown",
   "id": "269e7639",
   "metadata": {},
   "source": [
    "## ORGANIZANDO AS ABAS COM OS DADOS - (De onde começa até onde termina etc..)"
   ]
  },
  {
   "cell_type": "code",
   "execution_count": 5,
   "id": "62a8cb4e",
   "metadata": {},
   "outputs": [],
   "source": [
    "aba = pd.read_excel('dados/Base de Dados - Questionário.xlsx', sheet_name=0, usecols=[2,3,4,5,6,7,8,9], skiprows=4)\n",
    "aba1 = pd.read_excel('dados/Base de Dados - Questionário.xlsx', sheet_name=2)\n",
    "aba2 = pd.read_excel('dados/Base de Dados - Questionário.xlsx', sheet_name=3)\n",
    "aba3 = pd.read_excel('dados/Base de Dados - Questionário.xlsx', sheet_name=4)"
   ]
  },
  {
   "cell_type": "code",
   "execution_count": 6,
   "id": "736a1c6e",
   "metadata": {},
   "outputs": [
    {
     "data": {
      "text/html": [
       "<div>\n",
       "<style scoped>\n",
       "    .dataframe tbody tr th:only-of-type {\n",
       "        vertical-align: middle;\n",
       "    }\n",
       "\n",
       "    .dataframe tbody tr th {\n",
       "        vertical-align: top;\n",
       "    }\n",
       "\n",
       "    .dataframe thead th {\n",
       "        text-align: right;\n",
       "    }\n",
       "</style>\n",
       "<table border=\"1\" class=\"dataframe\">\n",
       "  <thead>\n",
       "    <tr style=\"text-align: right;\">\n",
       "      <th></th>\n",
       "      <th>ID</th>\n",
       "      <th>ProductID</th>\n",
       "      <th>ClientID</th>\n",
       "      <th>Discount</th>\n",
       "      <th>UnitPrice</th>\n",
       "      <th>Quantity</th>\n",
       "      <th>StoreID</th>\n",
       "      <th>Date</th>\n",
       "    </tr>\n",
       "  </thead>\n",
       "  <tbody>\n",
       "    <tr>\n",
       "      <th>0</th>\n",
       "      <td>80260d682079b6090c8285b398c50d97</td>\n",
       "      <td>002552c0663708129c0019cc97552d7d3</td>\n",
       "      <td>14001</td>\n",
       "      <td>0.08</td>\n",
       "      <td>249.2</td>\n",
       "      <td>1</td>\n",
       "      <td>4</td>\n",
       "      <td>2018-12-10</td>\n",
       "    </tr>\n",
       "    <tr>\n",
       "      <th>1</th>\n",
       "      <td>3275736da1234f55d52bdf09d86b93bc</td>\n",
       "      <td>001b237c0e9bb435f2e54071129237e93</td>\n",
       "      <td>14001</td>\n",
       "      <td>0.10</td>\n",
       "      <td>162.4</td>\n",
       "      <td>1</td>\n",
       "      <td>4</td>\n",
       "      <td>2019-04-25</td>\n",
       "    </tr>\n",
       "    <tr>\n",
       "      <th>2</th>\n",
       "      <td>f3513eec8f1434b5b7e04ddf3598df40</td>\n",
       "      <td>00066f42aeeb9f3007548bb9d3f33c381</td>\n",
       "      <td>14001</td>\n",
       "      <td>0.10</td>\n",
       "      <td>194.6</td>\n",
       "      <td>1</td>\n",
       "      <td>4</td>\n",
       "      <td>2019-07-17</td>\n",
       "    </tr>\n",
       "    <tr>\n",
       "      <th>3</th>\n",
       "      <td>7180475b60fe6bbbde424d39704a1177</td>\n",
       "      <td>001b72dfd63e9833e8c02742adf472e33</td>\n",
       "      <td>14002</td>\n",
       "      <td>0.10</td>\n",
       "      <td>201.6</td>\n",
       "      <td>2</td>\n",
       "      <td>1</td>\n",
       "      <td>2018-04-10</td>\n",
       "    </tr>\n",
       "    <tr>\n",
       "      <th>4</th>\n",
       "      <td>76600853a200fe87e141adae6b35674c</td>\n",
       "      <td>00210e41887c2a8ef9f791ebc780cc363</td>\n",
       "      <td>14002</td>\n",
       "      <td>0.10</td>\n",
       "      <td>406.0</td>\n",
       "      <td>1</td>\n",
       "      <td>1</td>\n",
       "      <td>2019-01-21</td>\n",
       "    </tr>\n",
       "    <tr>\n",
       "      <th>...</th>\n",
       "      <td>...</td>\n",
       "      <td>...</td>\n",
       "      <td>...</td>\n",
       "      <td>...</td>\n",
       "      <td>...</td>\n",
       "      <td>...</td>\n",
       "      <td>...</td>\n",
       "      <td>...</td>\n",
       "    </tr>\n",
       "    <tr>\n",
       "      <th>32748</th>\n",
       "      <td>b155e2a8589d40bc9c0381ee48e3204f</td>\n",
       "      <td>002ec297b1b00fb9dde7ee6ac24b67712</td>\n",
       "      <td>28694</td>\n",
       "      <td>0.08</td>\n",
       "      <td>218.4</td>\n",
       "      <td>1</td>\n",
       "      <td>4</td>\n",
       "      <td>2018-12-02</td>\n",
       "    </tr>\n",
       "    <tr>\n",
       "      <th>32749</th>\n",
       "      <td>abb71d0110c4be1a1a0c52f929cab4a3</td>\n",
       "      <td>002d4ea7c04739c130bb74d7e7cd16943</td>\n",
       "      <td>28694</td>\n",
       "      <td>0.08</td>\n",
       "      <td>210.0</td>\n",
       "      <td>1</td>\n",
       "      <td>4</td>\n",
       "      <td>2018-12-05</td>\n",
       "    </tr>\n",
       "    <tr>\n",
       "      <th>32750</th>\n",
       "      <td>db9a034f34174edd577b9f64cc982952</td>\n",
       "      <td>001795ec6f1b187d37335e1c4704762e3</td>\n",
       "      <td>28694</td>\n",
       "      <td>0.08</td>\n",
       "      <td>148.4</td>\n",
       "      <td>1</td>\n",
       "      <td>4</td>\n",
       "      <td>2019-08-01</td>\n",
       "    </tr>\n",
       "    <tr>\n",
       "      <th>32751</th>\n",
       "      <td>ee00fa5093eb96d8573403b382fb60a8</td>\n",
       "      <td>002ec297b1b00fb9dde7ee6ac24b67713</td>\n",
       "      <td>28694</td>\n",
       "      <td>0.10</td>\n",
       "      <td>218.4</td>\n",
       "      <td>2</td>\n",
       "      <td>4</td>\n",
       "      <td>2019-11-25</td>\n",
       "    </tr>\n",
       "    <tr>\n",
       "      <th>32752</th>\n",
       "      <td>56c87d433bb46c7862e35e791b1907fa</td>\n",
       "      <td>0009406fd7479715e4bef61dd91f24622</td>\n",
       "      <td>28695</td>\n",
       "      <td>0.10</td>\n",
       "      <td>254.8</td>\n",
       "      <td>1</td>\n",
       "      <td>4</td>\n",
       "      <td>2018-07-04</td>\n",
       "    </tr>\n",
       "  </tbody>\n",
       "</table>\n",
       "<p>32753 rows × 8 columns</p>\n",
       "</div>"
      ],
      "text/plain": [
       "                                     ID                          ProductID  \\\n",
       "0      80260d682079b6090c8285b398c50d97  002552c0663708129c0019cc97552d7d3   \n",
       "1      3275736da1234f55d52bdf09d86b93bc  001b237c0e9bb435f2e54071129237e93   \n",
       "2      f3513eec8f1434b5b7e04ddf3598df40  00066f42aeeb9f3007548bb9d3f33c381   \n",
       "3      7180475b60fe6bbbde424d39704a1177  001b72dfd63e9833e8c02742adf472e33   \n",
       "4      76600853a200fe87e141adae6b35674c  00210e41887c2a8ef9f791ebc780cc363   \n",
       "...                                 ...                                ...   \n",
       "32748  b155e2a8589d40bc9c0381ee48e3204f  002ec297b1b00fb9dde7ee6ac24b67712   \n",
       "32749  abb71d0110c4be1a1a0c52f929cab4a3  002d4ea7c04739c130bb74d7e7cd16943   \n",
       "32750  db9a034f34174edd577b9f64cc982952  001795ec6f1b187d37335e1c4704762e3   \n",
       "32751  ee00fa5093eb96d8573403b382fb60a8  002ec297b1b00fb9dde7ee6ac24b67713   \n",
       "32752  56c87d433bb46c7862e35e791b1907fa  0009406fd7479715e4bef61dd91f24622   \n",
       "\n",
       "       ClientID  Discount  UnitPrice  Quantity  StoreID       Date  \n",
       "0         14001      0.08      249.2         1        4 2018-12-10  \n",
       "1         14001      0.10      162.4         1        4 2019-04-25  \n",
       "2         14001      0.10      194.6         1        4 2019-07-17  \n",
       "3         14002      0.10      201.6         2        1 2018-04-10  \n",
       "4         14002      0.10      406.0         1        1 2019-01-21  \n",
       "...         ...       ...        ...       ...      ...        ...  \n",
       "32748     28694      0.08      218.4         1        4 2018-12-02  \n",
       "32749     28694      0.08      210.0         1        4 2018-12-05  \n",
       "32750     28694      0.08      148.4         1        4 2019-08-01  \n",
       "32751     28694      0.10      218.4         2        4 2019-11-25  \n",
       "32752     28695      0.10      254.8         1        4 2018-07-04  \n",
       "\n",
       "[32753 rows x 8 columns]"
      ]
     },
     "metadata": {},
     "output_type": "display_data"
    },
    {
     "data": {
      "text/html": [
       "<div>\n",
       "<style scoped>\n",
       "    .dataframe tbody tr th:only-of-type {\n",
       "        vertical-align: middle;\n",
       "    }\n",
       "\n",
       "    .dataframe tbody tr th {\n",
       "        vertical-align: top;\n",
       "    }\n",
       "\n",
       "    .dataframe thead th {\n",
       "        text-align: right;\n",
       "    }\n",
       "</style>\n",
       "<table border=\"1\" class=\"dataframe\">\n",
       "  <thead>\n",
       "    <tr style=\"text-align: right;\">\n",
       "      <th></th>\n",
       "      <th>ID</th>\n",
       "      <th>Name</th>\n",
       "      <th>Size</th>\n",
       "    </tr>\n",
       "  </thead>\n",
       "  <tbody>\n",
       "    <tr>\n",
       "      <th>0</th>\n",
       "      <td>00066f42aeeb9f3007548bb9d3f33c381</td>\n",
       "      <td>Capitão América</td>\n",
       "      <td>P</td>\n",
       "    </tr>\n",
       "    <tr>\n",
       "      <th>1</th>\n",
       "      <td>00066f42aeeb9f3007548bb9d3f33c382</td>\n",
       "      <td>Capitão América</td>\n",
       "      <td>M</td>\n",
       "    </tr>\n",
       "    <tr>\n",
       "      <th>2</th>\n",
       "      <td>00066f42aeeb9f3007548bb9d3f33c383</td>\n",
       "      <td>Capitão América</td>\n",
       "      <td>G</td>\n",
       "    </tr>\n",
       "    <tr>\n",
       "      <th>3</th>\n",
       "      <td>00088930e925c41fd95ebfe695fd26551</td>\n",
       "      <td>Thor</td>\n",
       "      <td>P</td>\n",
       "    </tr>\n",
       "    <tr>\n",
       "      <th>4</th>\n",
       "      <td>00088930e925c41fd95ebfe695fd26552</td>\n",
       "      <td>Thor</td>\n",
       "      <td>M</td>\n",
       "    </tr>\n",
       "    <tr>\n",
       "      <th>...</th>\n",
       "      <td>...</td>\n",
       "      <td>...</td>\n",
       "      <td>...</td>\n",
       "    </tr>\n",
       "    <tr>\n",
       "      <th>68</th>\n",
       "      <td>0030e635639c898b323826589761cf233</td>\n",
       "      <td>Rick Morty</td>\n",
       "      <td>G</td>\n",
       "    </tr>\n",
       "    <tr>\n",
       "      <th>69</th>\n",
       "      <td>003128f981470c3e5a2e7445e4a771cd1</td>\n",
       "      <td>Homer Simpsons</td>\n",
       "      <td>P</td>\n",
       "    </tr>\n",
       "    <tr>\n",
       "      <th>70</th>\n",
       "      <td>003128f981470c3e5a2e7445e4a771cd2</td>\n",
       "      <td>Homer Simpsons</td>\n",
       "      <td>M</td>\n",
       "    </tr>\n",
       "    <tr>\n",
       "      <th>71</th>\n",
       "      <td>003128f981470c3e5a2e7445e4a771cd3</td>\n",
       "      <td>Homer Simpsons</td>\n",
       "      <td>G</td>\n",
       "    </tr>\n",
       "    <tr>\n",
       "      <th>72</th>\n",
       "      <td>003128f981470c3e5a2e7445e4a771cd4</td>\n",
       "      <td>Homer Simpsons</td>\n",
       "      <td>GG</td>\n",
       "    </tr>\n",
       "  </tbody>\n",
       "</table>\n",
       "<p>73 rows × 3 columns</p>\n",
       "</div>"
      ],
      "text/plain": [
       "                                   ID             Name Size\n",
       "0   00066f42aeeb9f3007548bb9d3f33c381  Capitão América    P\n",
       "1   00066f42aeeb9f3007548bb9d3f33c382  Capitão América    M\n",
       "2   00066f42aeeb9f3007548bb9d3f33c383  Capitão América    G\n",
       "3   00088930e925c41fd95ebfe695fd26551             Thor    P\n",
       "4   00088930e925c41fd95ebfe695fd26552             Thor    M\n",
       "..                                ...              ...  ...\n",
       "68  0030e635639c898b323826589761cf233       Rick Morty    G\n",
       "69  003128f981470c3e5a2e7445e4a771cd1   Homer Simpsons    P\n",
       "70  003128f981470c3e5a2e7445e4a771cd2   Homer Simpsons    M\n",
       "71  003128f981470c3e5a2e7445e4a771cd3   Homer Simpsons    G\n",
       "72  003128f981470c3e5a2e7445e4a771cd4   Homer Simpsons   GG\n",
       "\n",
       "[73 rows x 3 columns]"
      ]
     },
     "metadata": {},
     "output_type": "display_data"
    },
    {
     "data": {
      "text/html": [
       "<div>\n",
       "<style scoped>\n",
       "    .dataframe tbody tr th:only-of-type {\n",
       "        vertical-align: middle;\n",
       "    }\n",
       "\n",
       "    .dataframe tbody tr th {\n",
       "        vertical-align: top;\n",
       "    }\n",
       "\n",
       "    .dataframe thead th {\n",
       "        text-align: right;\n",
       "    }\n",
       "</style>\n",
       "<table border=\"1\" class=\"dataframe\">\n",
       "  <thead>\n",
       "    <tr style=\"text-align: right;\">\n",
       "      <th></th>\n",
       "      <th>ID</th>\n",
       "      <th>City</th>\n",
       "      <th>State</th>\n",
       "      <th>DateOfBirth</th>\n",
       "      <th>Sex</th>\n",
       "    </tr>\n",
       "  </thead>\n",
       "  <tbody>\n",
       "    <tr>\n",
       "      <th>0</th>\n",
       "      <td>14001</td>\n",
       "      <td>Curitiba</td>\n",
       "      <td>PR</td>\n",
       "      <td>1985-06-28</td>\n",
       "      <td>Homem</td>\n",
       "    </tr>\n",
       "    <tr>\n",
       "      <th>1</th>\n",
       "      <td>14002</td>\n",
       "      <td>Florianópolis</td>\n",
       "      <td>SC</td>\n",
       "      <td>1987-01-10</td>\n",
       "      <td>Homem</td>\n",
       "    </tr>\n",
       "    <tr>\n",
       "      <th>2</th>\n",
       "      <td>14003</td>\n",
       "      <td>Rio de Janeiro</td>\n",
       "      <td>RJ</td>\n",
       "      <td>1979-11-05</td>\n",
       "      <td>Homem</td>\n",
       "    </tr>\n",
       "    <tr>\n",
       "      <th>3</th>\n",
       "      <td>14004</td>\n",
       "      <td>Rio de Janeiro</td>\n",
       "      <td>RJ</td>\n",
       "      <td>1983-11-25</td>\n",
       "      <td>Mulher</td>\n",
       "    </tr>\n",
       "    <tr>\n",
       "      <th>4</th>\n",
       "      <td>14005</td>\n",
       "      <td>Florianópolis</td>\n",
       "      <td>SC</td>\n",
       "      <td>1969-04-07</td>\n",
       "      <td>Homem</td>\n",
       "    </tr>\n",
       "    <tr>\n",
       "      <th>...</th>\n",
       "      <td>...</td>\n",
       "      <td>...</td>\n",
       "      <td>...</td>\n",
       "      <td>...</td>\n",
       "      <td>...</td>\n",
       "    </tr>\n",
       "    <tr>\n",
       "      <th>13645</th>\n",
       "      <td>28689</td>\n",
       "      <td>Belo Horizonte</td>\n",
       "      <td>MG</td>\n",
       "      <td>1999-01-15</td>\n",
       "      <td>Homem</td>\n",
       "    </tr>\n",
       "    <tr>\n",
       "      <th>13646</th>\n",
       "      <td>28691</td>\n",
       "      <td>Belo Horizonte</td>\n",
       "      <td>BH</td>\n",
       "      <td>1956-02-07</td>\n",
       "      <td>Homem</td>\n",
       "    </tr>\n",
       "    <tr>\n",
       "      <th>13647</th>\n",
       "      <td>28692</td>\n",
       "      <td>Porto Alegre</td>\n",
       "      <td>RS</td>\n",
       "      <td>1985-10-19</td>\n",
       "      <td>Homem</td>\n",
       "    </tr>\n",
       "    <tr>\n",
       "      <th>13648</th>\n",
       "      <td>28694</td>\n",
       "      <td>Curitiba</td>\n",
       "      <td>PR</td>\n",
       "      <td>1982-10-22</td>\n",
       "      <td>Homem</td>\n",
       "    </tr>\n",
       "    <tr>\n",
       "      <th>13649</th>\n",
       "      <td>28695</td>\n",
       "      <td>Curitiba</td>\n",
       "      <td>PR</td>\n",
       "      <td>1961-10-24</td>\n",
       "      <td>Homem</td>\n",
       "    </tr>\n",
       "  </tbody>\n",
       "</table>\n",
       "<p>13650 rows × 5 columns</p>\n",
       "</div>"
      ],
      "text/plain": [
       "          ID            City State DateOfBirth     Sex\n",
       "0      14001        Curitiba    PR  1985-06-28   Homem\n",
       "1      14002   Florianópolis    SC  1987-01-10   Homem\n",
       "2      14003  Rio de Janeiro    RJ  1979-11-05   Homem\n",
       "3      14004  Rio de Janeiro    RJ  1983-11-25  Mulher\n",
       "4      14005   Florianópolis    SC  1969-04-07   Homem\n",
       "...      ...             ...   ...         ...     ...\n",
       "13645  28689  Belo Horizonte    MG  1999-01-15   Homem\n",
       "13646  28691  Belo Horizonte    BH  1956-02-07   Homem\n",
       "13647  28692    Porto Alegre    RS  1985-10-19   Homem\n",
       "13648  28694        Curitiba    PR  1982-10-22   Homem\n",
       "13649  28695        Curitiba    PR  1961-10-24   Homem\n",
       "\n",
       "[13650 rows x 5 columns]"
      ]
     },
     "metadata": {},
     "output_type": "display_data"
    },
    {
     "data": {
      "text/html": [
       "<div>\n",
       "<style scoped>\n",
       "    .dataframe tbody tr th:only-of-type {\n",
       "        vertical-align: middle;\n",
       "    }\n",
       "\n",
       "    .dataframe tbody tr th {\n",
       "        vertical-align: top;\n",
       "    }\n",
       "\n",
       "    .dataframe thead th {\n",
       "        text-align: right;\n",
       "    }\n",
       "</style>\n",
       "<table border=\"1\" class=\"dataframe\">\n",
       "  <thead>\n",
       "    <tr style=\"text-align: right;\">\n",
       "      <th></th>\n",
       "      <th>ID</th>\n",
       "      <th>Name</th>\n",
       "      <th>State</th>\n",
       "    </tr>\n",
       "  </thead>\n",
       "  <tbody>\n",
       "    <tr>\n",
       "      <th>0</th>\n",
       "      <td>1</td>\n",
       "      <td>Florianópolis</td>\n",
       "      <td>SC</td>\n",
       "    </tr>\n",
       "    <tr>\n",
       "      <th>1</th>\n",
       "      <td>2</td>\n",
       "      <td>Rio de Janeiro</td>\n",
       "      <td>RJ</td>\n",
       "    </tr>\n",
       "    <tr>\n",
       "      <th>2</th>\n",
       "      <td>3</td>\n",
       "      <td>Porto Alegre</td>\n",
       "      <td>RS</td>\n",
       "    </tr>\n",
       "    <tr>\n",
       "      <th>3</th>\n",
       "      <td>4</td>\n",
       "      <td>Curitiba</td>\n",
       "      <td>PR</td>\n",
       "    </tr>\n",
       "    <tr>\n",
       "      <th>4</th>\n",
       "      <td>7</td>\n",
       "      <td>São Paulo</td>\n",
       "      <td>SP</td>\n",
       "    </tr>\n",
       "    <tr>\n",
       "      <th>5</th>\n",
       "      <td>9</td>\n",
       "      <td>Belo Horizonte</td>\n",
       "      <td>MG</td>\n",
       "    </tr>\n",
       "    <tr>\n",
       "      <th>6</th>\n",
       "      <td>22</td>\n",
       "      <td>Online</td>\n",
       "      <td>na</td>\n",
       "    </tr>\n",
       "  </tbody>\n",
       "</table>\n",
       "</div>"
      ],
      "text/plain": [
       "   ID            Name State\n",
       "0   1   Florianópolis    SC\n",
       "1   2  Rio de Janeiro    RJ\n",
       "2   3    Porto Alegre    RS\n",
       "3   4        Curitiba    PR\n",
       "4   7       São Paulo    SP\n",
       "5   9  Belo Horizonte    MG\n",
       "6  22          Online    na"
      ]
     },
     "metadata": {},
     "output_type": "display_data"
    }
   ],
   "source": [
    "display(aba,aba1,aba2,aba3)"
   ]
  },
  {
   "cell_type": "markdown",
   "id": "4dd7bf03",
   "metadata": {},
   "source": [
    "## TRATAMENTO DOS DADOS DAS ABAS DAS PLANILHAS: Renomeando as colunas com o nome \"ID\" para :\n",
    "<br>\n",
    "<li><strong>Aba1 = ProductID</strong>, Pois ao fazer a análise descobri que o id é exatamente o ProductID e por tanto tive que fazer a alteração para conseguir seguir com a  estruturação dos dados.</li>\n",
    "<li><strong>Aba2 = ClientID</strong>, Após a análise verifiquei que o ID da Aba2 é o cliente.</li>\n",
    "<li><strong>Aba3 = StoreId e Name </strong>, Após a análise verifiquei que o ID é StoreID e o Name é a City.</li>"
   ]
  },
  {
   "cell_type": "code",
   "execution_count": 7,
   "id": "38bb1365",
   "metadata": {},
   "outputs": [],
   "source": [
    "aba1.rename(columns = {'ID':'ProductID'}, inplace = True)\n",
    "aba2.rename(columns = {'ID':'ClientID'}, inplace = True)\n",
    "aba3.rename(columns = {'ID':'StoreID','Name':'City'}, inplace = True)"
   ]
  },
  {
   "cell_type": "code",
   "execution_count": 8,
   "id": "8dcc06ec",
   "metadata": {},
   "outputs": [
    {
     "data": {
      "text/html": [
       "<div>\n",
       "<style scoped>\n",
       "    .dataframe tbody tr th:only-of-type {\n",
       "        vertical-align: middle;\n",
       "    }\n",
       "\n",
       "    .dataframe tbody tr th {\n",
       "        vertical-align: top;\n",
       "    }\n",
       "\n",
       "    .dataframe thead th {\n",
       "        text-align: right;\n",
       "    }\n",
       "</style>\n",
       "<table border=\"1\" class=\"dataframe\">\n",
       "  <thead>\n",
       "    <tr style=\"text-align: right;\">\n",
       "      <th></th>\n",
       "      <th>ID</th>\n",
       "      <th>ProductID</th>\n",
       "      <th>ClientID</th>\n",
       "      <th>Discount</th>\n",
       "      <th>UnitPrice</th>\n",
       "      <th>Quantity</th>\n",
       "      <th>StoreID</th>\n",
       "      <th>Date</th>\n",
       "    </tr>\n",
       "  </thead>\n",
       "  <tbody>\n",
       "    <tr>\n",
       "      <th>0</th>\n",
       "      <td>80260d682079b6090c8285b398c50d97</td>\n",
       "      <td>002552c0663708129c0019cc97552d7d3</td>\n",
       "      <td>14001</td>\n",
       "      <td>0.08</td>\n",
       "      <td>249.2</td>\n",
       "      <td>1</td>\n",
       "      <td>4</td>\n",
       "      <td>2018-12-10</td>\n",
       "    </tr>\n",
       "    <tr>\n",
       "      <th>1</th>\n",
       "      <td>3275736da1234f55d52bdf09d86b93bc</td>\n",
       "      <td>001b237c0e9bb435f2e54071129237e93</td>\n",
       "      <td>14001</td>\n",
       "      <td>0.10</td>\n",
       "      <td>162.4</td>\n",
       "      <td>1</td>\n",
       "      <td>4</td>\n",
       "      <td>2019-04-25</td>\n",
       "    </tr>\n",
       "    <tr>\n",
       "      <th>2</th>\n",
       "      <td>f3513eec8f1434b5b7e04ddf3598df40</td>\n",
       "      <td>00066f42aeeb9f3007548bb9d3f33c381</td>\n",
       "      <td>14001</td>\n",
       "      <td>0.10</td>\n",
       "      <td>194.6</td>\n",
       "      <td>1</td>\n",
       "      <td>4</td>\n",
       "      <td>2019-07-17</td>\n",
       "    </tr>\n",
       "    <tr>\n",
       "      <th>3</th>\n",
       "      <td>7180475b60fe6bbbde424d39704a1177</td>\n",
       "      <td>001b72dfd63e9833e8c02742adf472e33</td>\n",
       "      <td>14002</td>\n",
       "      <td>0.10</td>\n",
       "      <td>201.6</td>\n",
       "      <td>2</td>\n",
       "      <td>1</td>\n",
       "      <td>2018-04-10</td>\n",
       "    </tr>\n",
       "    <tr>\n",
       "      <th>4</th>\n",
       "      <td>76600853a200fe87e141adae6b35674c</td>\n",
       "      <td>00210e41887c2a8ef9f791ebc780cc363</td>\n",
       "      <td>14002</td>\n",
       "      <td>0.10</td>\n",
       "      <td>406.0</td>\n",
       "      <td>1</td>\n",
       "      <td>1</td>\n",
       "      <td>2019-01-21</td>\n",
       "    </tr>\n",
       "  </tbody>\n",
       "</table>\n",
       "</div>"
      ],
      "text/plain": [
       "                                 ID                          ProductID  \\\n",
       "0  80260d682079b6090c8285b398c50d97  002552c0663708129c0019cc97552d7d3   \n",
       "1  3275736da1234f55d52bdf09d86b93bc  001b237c0e9bb435f2e54071129237e93   \n",
       "2  f3513eec8f1434b5b7e04ddf3598df40  00066f42aeeb9f3007548bb9d3f33c381   \n",
       "3  7180475b60fe6bbbde424d39704a1177  001b72dfd63e9833e8c02742adf472e33   \n",
       "4  76600853a200fe87e141adae6b35674c  00210e41887c2a8ef9f791ebc780cc363   \n",
       "\n",
       "   ClientID  Discount  UnitPrice  Quantity  StoreID       Date  \n",
       "0     14001      0.08      249.2         1        4 2018-12-10  \n",
       "1     14001      0.10      162.4         1        4 2019-04-25  \n",
       "2     14001      0.10      194.6         1        4 2019-07-17  \n",
       "3     14002      0.10      201.6         2        1 2018-04-10  \n",
       "4     14002      0.10      406.0         1        1 2019-01-21  "
      ]
     },
     "metadata": {},
     "output_type": "display_data"
    },
    {
     "data": {
      "text/html": [
       "<div>\n",
       "<style scoped>\n",
       "    .dataframe tbody tr th:only-of-type {\n",
       "        vertical-align: middle;\n",
       "    }\n",
       "\n",
       "    .dataframe tbody tr th {\n",
       "        vertical-align: top;\n",
       "    }\n",
       "\n",
       "    .dataframe thead th {\n",
       "        text-align: right;\n",
       "    }\n",
       "</style>\n",
       "<table border=\"1\" class=\"dataframe\">\n",
       "  <thead>\n",
       "    <tr style=\"text-align: right;\">\n",
       "      <th></th>\n",
       "      <th>ProductID</th>\n",
       "      <th>Name</th>\n",
       "      <th>Size</th>\n",
       "    </tr>\n",
       "  </thead>\n",
       "  <tbody>\n",
       "    <tr>\n",
       "      <th>0</th>\n",
       "      <td>00066f42aeeb9f3007548bb9d3f33c381</td>\n",
       "      <td>Capitão América</td>\n",
       "      <td>P</td>\n",
       "    </tr>\n",
       "    <tr>\n",
       "      <th>1</th>\n",
       "      <td>00066f42aeeb9f3007548bb9d3f33c382</td>\n",
       "      <td>Capitão América</td>\n",
       "      <td>M</td>\n",
       "    </tr>\n",
       "    <tr>\n",
       "      <th>2</th>\n",
       "      <td>00066f42aeeb9f3007548bb9d3f33c383</td>\n",
       "      <td>Capitão América</td>\n",
       "      <td>G</td>\n",
       "    </tr>\n",
       "    <tr>\n",
       "      <th>3</th>\n",
       "      <td>00088930e925c41fd95ebfe695fd26551</td>\n",
       "      <td>Thor</td>\n",
       "      <td>P</td>\n",
       "    </tr>\n",
       "    <tr>\n",
       "      <th>4</th>\n",
       "      <td>00088930e925c41fd95ebfe695fd26552</td>\n",
       "      <td>Thor</td>\n",
       "      <td>M</td>\n",
       "    </tr>\n",
       "  </tbody>\n",
       "</table>\n",
       "</div>"
      ],
      "text/plain": [
       "                           ProductID             Name Size\n",
       "0  00066f42aeeb9f3007548bb9d3f33c381  Capitão América    P\n",
       "1  00066f42aeeb9f3007548bb9d3f33c382  Capitão América    M\n",
       "2  00066f42aeeb9f3007548bb9d3f33c383  Capitão América    G\n",
       "3  00088930e925c41fd95ebfe695fd26551             Thor    P\n",
       "4  00088930e925c41fd95ebfe695fd26552             Thor    M"
      ]
     },
     "metadata": {},
     "output_type": "display_data"
    },
    {
     "data": {
      "text/html": [
       "<div>\n",
       "<style scoped>\n",
       "    .dataframe tbody tr th:only-of-type {\n",
       "        vertical-align: middle;\n",
       "    }\n",
       "\n",
       "    .dataframe tbody tr th {\n",
       "        vertical-align: top;\n",
       "    }\n",
       "\n",
       "    .dataframe thead th {\n",
       "        text-align: right;\n",
       "    }\n",
       "</style>\n",
       "<table border=\"1\" class=\"dataframe\">\n",
       "  <thead>\n",
       "    <tr style=\"text-align: right;\">\n",
       "      <th></th>\n",
       "      <th>ClientID</th>\n",
       "      <th>City</th>\n",
       "      <th>State</th>\n",
       "      <th>DateOfBirth</th>\n",
       "      <th>Sex</th>\n",
       "    </tr>\n",
       "  </thead>\n",
       "  <tbody>\n",
       "    <tr>\n",
       "      <th>0</th>\n",
       "      <td>14001</td>\n",
       "      <td>Curitiba</td>\n",
       "      <td>PR</td>\n",
       "      <td>1985-06-28</td>\n",
       "      <td>Homem</td>\n",
       "    </tr>\n",
       "    <tr>\n",
       "      <th>1</th>\n",
       "      <td>14002</td>\n",
       "      <td>Florianópolis</td>\n",
       "      <td>SC</td>\n",
       "      <td>1987-01-10</td>\n",
       "      <td>Homem</td>\n",
       "    </tr>\n",
       "    <tr>\n",
       "      <th>2</th>\n",
       "      <td>14003</td>\n",
       "      <td>Rio de Janeiro</td>\n",
       "      <td>RJ</td>\n",
       "      <td>1979-11-05</td>\n",
       "      <td>Homem</td>\n",
       "    </tr>\n",
       "    <tr>\n",
       "      <th>3</th>\n",
       "      <td>14004</td>\n",
       "      <td>Rio de Janeiro</td>\n",
       "      <td>RJ</td>\n",
       "      <td>1983-11-25</td>\n",
       "      <td>Mulher</td>\n",
       "    </tr>\n",
       "    <tr>\n",
       "      <th>4</th>\n",
       "      <td>14005</td>\n",
       "      <td>Florianópolis</td>\n",
       "      <td>SC</td>\n",
       "      <td>1969-04-07</td>\n",
       "      <td>Homem</td>\n",
       "    </tr>\n",
       "  </tbody>\n",
       "</table>\n",
       "</div>"
      ],
      "text/plain": [
       "   ClientID            City State DateOfBirth     Sex\n",
       "0     14001        Curitiba    PR  1985-06-28   Homem\n",
       "1     14002   Florianópolis    SC  1987-01-10   Homem\n",
       "2     14003  Rio de Janeiro    RJ  1979-11-05   Homem\n",
       "3     14004  Rio de Janeiro    RJ  1983-11-25  Mulher\n",
       "4     14005   Florianópolis    SC  1969-04-07   Homem"
      ]
     },
     "metadata": {},
     "output_type": "display_data"
    },
    {
     "data": {
      "text/html": [
       "<div>\n",
       "<style scoped>\n",
       "    .dataframe tbody tr th:only-of-type {\n",
       "        vertical-align: middle;\n",
       "    }\n",
       "\n",
       "    .dataframe tbody tr th {\n",
       "        vertical-align: top;\n",
       "    }\n",
       "\n",
       "    .dataframe thead th {\n",
       "        text-align: right;\n",
       "    }\n",
       "</style>\n",
       "<table border=\"1\" class=\"dataframe\">\n",
       "  <thead>\n",
       "    <tr style=\"text-align: right;\">\n",
       "      <th></th>\n",
       "      <th>StoreID</th>\n",
       "      <th>City</th>\n",
       "      <th>State</th>\n",
       "    </tr>\n",
       "  </thead>\n",
       "  <tbody>\n",
       "    <tr>\n",
       "      <th>0</th>\n",
       "      <td>1</td>\n",
       "      <td>Florianópolis</td>\n",
       "      <td>SC</td>\n",
       "    </tr>\n",
       "    <tr>\n",
       "      <th>1</th>\n",
       "      <td>2</td>\n",
       "      <td>Rio de Janeiro</td>\n",
       "      <td>RJ</td>\n",
       "    </tr>\n",
       "    <tr>\n",
       "      <th>2</th>\n",
       "      <td>3</td>\n",
       "      <td>Porto Alegre</td>\n",
       "      <td>RS</td>\n",
       "    </tr>\n",
       "    <tr>\n",
       "      <th>3</th>\n",
       "      <td>4</td>\n",
       "      <td>Curitiba</td>\n",
       "      <td>PR</td>\n",
       "    </tr>\n",
       "    <tr>\n",
       "      <th>4</th>\n",
       "      <td>7</td>\n",
       "      <td>São Paulo</td>\n",
       "      <td>SP</td>\n",
       "    </tr>\n",
       "  </tbody>\n",
       "</table>\n",
       "</div>"
      ],
      "text/plain": [
       "   StoreID            City State\n",
       "0        1   Florianópolis    SC\n",
       "1        2  Rio de Janeiro    RJ\n",
       "2        3    Porto Alegre    RS\n",
       "3        4        Curitiba    PR\n",
       "4        7       São Paulo    SP"
      ]
     },
     "metadata": {},
     "output_type": "display_data"
    }
   ],
   "source": [
    "display(aba.head(),aba1.head(),aba2.head(),aba3.head())"
   ]
  },
  {
   "cell_type": "markdown",
   "id": "7425645d",
   "metadata": {},
   "source": [
    "# Unindo as abas conforme análise das variáveis."
   ]
  },
  {
   "cell_type": "code",
   "execution_count": 9,
   "id": "6e7775ed",
   "metadata": {},
   "outputs": [],
   "source": [
    "pid = pd.merge(aba, aba1, how = 'outer',on='ProductID') \n",
    "cid = pd.merge(aba, aba2, how = 'outer',on='ClientID')\n",
    "sid = pd.merge(aba, aba3, how = 'outer',on='StoreID')\n",
    "cs  = pd.merge(aba3[['StoreID',  'State']],aba2, how = 'outer',on='State')"
   ]
  },
  {
   "cell_type": "code",
   "execution_count": 10,
   "id": "d675ddc2",
   "metadata": {},
   "outputs": [
    {
     "data": {
      "text/html": [
       "<div>\n",
       "<style scoped>\n",
       "    .dataframe tbody tr th:only-of-type {\n",
       "        vertical-align: middle;\n",
       "    }\n",
       "\n",
       "    .dataframe tbody tr th {\n",
       "        vertical-align: top;\n",
       "    }\n",
       "\n",
       "    .dataframe thead th {\n",
       "        text-align: right;\n",
       "    }\n",
       "</style>\n",
       "<table border=\"1\" class=\"dataframe\">\n",
       "  <thead>\n",
       "    <tr style=\"text-align: right;\">\n",
       "      <th></th>\n",
       "      <th>ID</th>\n",
       "      <th>ProductID</th>\n",
       "      <th>ClientID</th>\n",
       "      <th>Discount</th>\n",
       "      <th>UnitPrice</th>\n",
       "      <th>Quantity</th>\n",
       "      <th>StoreID</th>\n",
       "      <th>Date</th>\n",
       "      <th>Name</th>\n",
       "      <th>Size</th>\n",
       "    </tr>\n",
       "  </thead>\n",
       "  <tbody>\n",
       "    <tr>\n",
       "      <th>0</th>\n",
       "      <td>80260d682079b6090c8285b398c50d97</td>\n",
       "      <td>002552c0663708129c0019cc97552d7d3</td>\n",
       "      <td>14001</td>\n",
       "      <td>0.08</td>\n",
       "      <td>249.2</td>\n",
       "      <td>1</td>\n",
       "      <td>4</td>\n",
       "      <td>2018-12-10</td>\n",
       "      <td>Tempestade</td>\n",
       "      <td>G</td>\n",
       "    </tr>\n",
       "    <tr>\n",
       "      <th>1</th>\n",
       "      <td>7ab64f42a8f9ab290e920eed320d7e60</td>\n",
       "      <td>002552c0663708129c0019cc97552d7d3</td>\n",
       "      <td>14002</td>\n",
       "      <td>0.10</td>\n",
       "      <td>249.2</td>\n",
       "      <td>1</td>\n",
       "      <td>1</td>\n",
       "      <td>2019-03-28</td>\n",
       "      <td>Tempestade</td>\n",
       "      <td>G</td>\n",
       "    </tr>\n",
       "  </tbody>\n",
       "</table>\n",
       "</div>"
      ],
      "text/plain": [
       "                                 ID                          ProductID  \\\n",
       "0  80260d682079b6090c8285b398c50d97  002552c0663708129c0019cc97552d7d3   \n",
       "1  7ab64f42a8f9ab290e920eed320d7e60  002552c0663708129c0019cc97552d7d3   \n",
       "\n",
       "   ClientID  Discount  UnitPrice  Quantity  StoreID       Date        Name  \\\n",
       "0     14001      0.08      249.2         1        4 2018-12-10  Tempestade   \n",
       "1     14002      0.10      249.2         1        1 2019-03-28  Tempestade   \n",
       "\n",
       "  Size  \n",
       "0    G  \n",
       "1    G  "
      ]
     },
     "metadata": {},
     "output_type": "display_data"
    },
    {
     "data": {
      "text/html": [
       "<div>\n",
       "<style scoped>\n",
       "    .dataframe tbody tr th:only-of-type {\n",
       "        vertical-align: middle;\n",
       "    }\n",
       "\n",
       "    .dataframe tbody tr th {\n",
       "        vertical-align: top;\n",
       "    }\n",
       "\n",
       "    .dataframe thead th {\n",
       "        text-align: right;\n",
       "    }\n",
       "</style>\n",
       "<table border=\"1\" class=\"dataframe\">\n",
       "  <thead>\n",
       "    <tr style=\"text-align: right;\">\n",
       "      <th></th>\n",
       "      <th>ID</th>\n",
       "      <th>ProductID</th>\n",
       "      <th>ClientID</th>\n",
       "      <th>Discount</th>\n",
       "      <th>UnitPrice</th>\n",
       "      <th>Quantity</th>\n",
       "      <th>StoreID</th>\n",
       "      <th>Date</th>\n",
       "      <th>City</th>\n",
       "      <th>State</th>\n",
       "      <th>DateOfBirth</th>\n",
       "      <th>Sex</th>\n",
       "    </tr>\n",
       "  </thead>\n",
       "  <tbody>\n",
       "    <tr>\n",
       "      <th>0</th>\n",
       "      <td>80260d682079b6090c8285b398c50d97</td>\n",
       "      <td>002552c0663708129c0019cc97552d7d3</td>\n",
       "      <td>14001</td>\n",
       "      <td>0.08</td>\n",
       "      <td>249.2</td>\n",
       "      <td>1</td>\n",
       "      <td>4</td>\n",
       "      <td>2018-12-10</td>\n",
       "      <td>Curitiba</td>\n",
       "      <td>PR</td>\n",
       "      <td>1985-06-28</td>\n",
       "      <td>Homem</td>\n",
       "    </tr>\n",
       "    <tr>\n",
       "      <th>1</th>\n",
       "      <td>3275736da1234f55d52bdf09d86b93bc</td>\n",
       "      <td>001b237c0e9bb435f2e54071129237e93</td>\n",
       "      <td>14001</td>\n",
       "      <td>0.10</td>\n",
       "      <td>162.4</td>\n",
       "      <td>1</td>\n",
       "      <td>4</td>\n",
       "      <td>2019-04-25</td>\n",
       "      <td>Curitiba</td>\n",
       "      <td>PR</td>\n",
       "      <td>1985-06-28</td>\n",
       "      <td>Homem</td>\n",
       "    </tr>\n",
       "  </tbody>\n",
       "</table>\n",
       "</div>"
      ],
      "text/plain": [
       "                                 ID                          ProductID  \\\n",
       "0  80260d682079b6090c8285b398c50d97  002552c0663708129c0019cc97552d7d3   \n",
       "1  3275736da1234f55d52bdf09d86b93bc  001b237c0e9bb435f2e54071129237e93   \n",
       "\n",
       "   ClientID  Discount  UnitPrice  Quantity  StoreID       Date      City  \\\n",
       "0     14001      0.08      249.2         1        4 2018-12-10  Curitiba   \n",
       "1     14001      0.10      162.4         1        4 2019-04-25  Curitiba   \n",
       "\n",
       "  State DateOfBirth    Sex  \n",
       "0    PR  1985-06-28  Homem  \n",
       "1    PR  1985-06-28  Homem  "
      ]
     },
     "metadata": {},
     "output_type": "display_data"
    },
    {
     "data": {
      "text/html": [
       "<div>\n",
       "<style scoped>\n",
       "    .dataframe tbody tr th:only-of-type {\n",
       "        vertical-align: middle;\n",
       "    }\n",
       "\n",
       "    .dataframe tbody tr th {\n",
       "        vertical-align: top;\n",
       "    }\n",
       "\n",
       "    .dataframe thead th {\n",
       "        text-align: right;\n",
       "    }\n",
       "</style>\n",
       "<table border=\"1\" class=\"dataframe\">\n",
       "  <thead>\n",
       "    <tr style=\"text-align: right;\">\n",
       "      <th></th>\n",
       "      <th>ID</th>\n",
       "      <th>ProductID</th>\n",
       "      <th>ClientID</th>\n",
       "      <th>Discount</th>\n",
       "      <th>UnitPrice</th>\n",
       "      <th>Quantity</th>\n",
       "      <th>StoreID</th>\n",
       "      <th>Date</th>\n",
       "      <th>City</th>\n",
       "      <th>State</th>\n",
       "    </tr>\n",
       "  </thead>\n",
       "  <tbody>\n",
       "    <tr>\n",
       "      <th>0</th>\n",
       "      <td>80260d682079b6090c8285b398c50d97</td>\n",
       "      <td>002552c0663708129c0019cc97552d7d3</td>\n",
       "      <td>14001</td>\n",
       "      <td>0.08</td>\n",
       "      <td>249.2</td>\n",
       "      <td>1</td>\n",
       "      <td>4</td>\n",
       "      <td>2018-12-10</td>\n",
       "      <td>Curitiba</td>\n",
       "      <td>PR</td>\n",
       "    </tr>\n",
       "    <tr>\n",
       "      <th>1</th>\n",
       "      <td>3275736da1234f55d52bdf09d86b93bc</td>\n",
       "      <td>001b237c0e9bb435f2e54071129237e93</td>\n",
       "      <td>14001</td>\n",
       "      <td>0.10</td>\n",
       "      <td>162.4</td>\n",
       "      <td>1</td>\n",
       "      <td>4</td>\n",
       "      <td>2019-04-25</td>\n",
       "      <td>Curitiba</td>\n",
       "      <td>PR</td>\n",
       "    </tr>\n",
       "  </tbody>\n",
       "</table>\n",
       "</div>"
      ],
      "text/plain": [
       "                                 ID                          ProductID  \\\n",
       "0  80260d682079b6090c8285b398c50d97  002552c0663708129c0019cc97552d7d3   \n",
       "1  3275736da1234f55d52bdf09d86b93bc  001b237c0e9bb435f2e54071129237e93   \n",
       "\n",
       "   ClientID  Discount  UnitPrice  Quantity  StoreID       Date      City State  \n",
       "0     14001      0.08      249.2         1        4 2018-12-10  Curitiba    PR  \n",
       "1     14001      0.10      162.4         1        4 2019-04-25  Curitiba    PR  "
      ]
     },
     "metadata": {},
     "output_type": "display_data"
    },
    {
     "data": {
      "text/html": [
       "<div>\n",
       "<style scoped>\n",
       "    .dataframe tbody tr th:only-of-type {\n",
       "        vertical-align: middle;\n",
       "    }\n",
       "\n",
       "    .dataframe tbody tr th {\n",
       "        vertical-align: top;\n",
       "    }\n",
       "\n",
       "    .dataframe thead th {\n",
       "        text-align: right;\n",
       "    }\n",
       "</style>\n",
       "<table border=\"1\" class=\"dataframe\">\n",
       "  <thead>\n",
       "    <tr style=\"text-align: right;\">\n",
       "      <th></th>\n",
       "      <th>StoreID</th>\n",
       "      <th>State</th>\n",
       "      <th>ClientID</th>\n",
       "      <th>City</th>\n",
       "      <th>DateOfBirth</th>\n",
       "      <th>Sex</th>\n",
       "    </tr>\n",
       "  </thead>\n",
       "  <tbody>\n",
       "    <tr>\n",
       "      <th>0</th>\n",
       "      <td>1.0</td>\n",
       "      <td>SC</td>\n",
       "      <td>14002.0</td>\n",
       "      <td>Florianópolis</td>\n",
       "      <td>1987-01-10</td>\n",
       "      <td>Homem</td>\n",
       "    </tr>\n",
       "    <tr>\n",
       "      <th>1</th>\n",
       "      <td>1.0</td>\n",
       "      <td>SC</td>\n",
       "      <td>14005.0</td>\n",
       "      <td>Florianópolis</td>\n",
       "      <td>1969-04-07</td>\n",
       "      <td>Homem</td>\n",
       "    </tr>\n",
       "  </tbody>\n",
       "</table>\n",
       "</div>"
      ],
      "text/plain": [
       "   StoreID State  ClientID           City DateOfBirth    Sex\n",
       "0      1.0    SC   14002.0  Florianópolis  1987-01-10  Homem\n",
       "1      1.0    SC   14005.0  Florianópolis  1969-04-07  Homem"
      ]
     },
     "metadata": {},
     "output_type": "display_data"
    }
   ],
   "source": [
    "display(pid.head(2),cid.head(2),sid.head(2),cs.head(2))"
   ]
  },
  {
   "cell_type": "code",
   "execution_count": 11,
   "id": "748a6e16",
   "metadata": {},
   "outputs": [],
   "source": [
    "pc = pd.merge(pid, aba2, how = 'outer',on='ClientID')"
   ]
  },
  {
   "cell_type": "code",
   "execution_count": 12,
   "id": "6afbdd03",
   "metadata": {},
   "outputs": [
    {
     "name": "stdout",
     "output_type": "stream",
     "text": [
      "<class 'pandas.core.frame.DataFrame'>\n",
      "Int64Index: 32753 entries, 0 to 32752\n",
      "Data columns (total 14 columns):\n",
      " #   Column       Non-Null Count  Dtype         \n",
      "---  ------       --------------  -----         \n",
      " 0   ID           32753 non-null  object        \n",
      " 1   ProductID    32753 non-null  object        \n",
      " 2   ClientID     32753 non-null  int64         \n",
      " 3   Discount     32753 non-null  float64       \n",
      " 4   UnitPrice    32753 non-null  float64       \n",
      " 5   Quantity     32753 non-null  int64         \n",
      " 6   StoreID      32753 non-null  int64         \n",
      " 7   Date         32753 non-null  datetime64[ns]\n",
      " 8   Name         32753 non-null  object        \n",
      " 9   Size         32753 non-null  object        \n",
      " 10  City         32753 non-null  object        \n",
      " 11  State        32753 non-null  object        \n",
      " 12  DateOfBirth  32753 non-null  datetime64[ns]\n",
      " 13  Sex          32753 non-null  object        \n",
      "dtypes: datetime64[ns](2), float64(2), int64(3), object(7)\n",
      "memory usage: 3.7+ MB\n"
     ]
    }
   ],
   "source": [
    "pc.head(10)\n",
    "pc.info()"
   ]
  },
  {
   "cell_type": "markdown",
   "id": "c1b45aa4",
   "metadata": {},
   "source": [
    "# Criando um DataFrame com a união das 4 abas da Planilha."
   ]
  },
  {
   "cell_type": "code",
   "execution_count": 13,
   "id": "4e686b0b",
   "metadata": {},
   "outputs": [],
   "source": [
    "bd = pd.DataFrame(pc)"
   ]
  },
  {
   "cell_type": "code",
   "execution_count": 14,
   "id": "1aa8d0da",
   "metadata": {
    "scrolled": true
   },
   "outputs": [
    {
     "data": {
      "text/html": [
       "<div>\n",
       "<style scoped>\n",
       "    .dataframe tbody tr th:only-of-type {\n",
       "        vertical-align: middle;\n",
       "    }\n",
       "\n",
       "    .dataframe tbody tr th {\n",
       "        vertical-align: top;\n",
       "    }\n",
       "\n",
       "    .dataframe thead th {\n",
       "        text-align: right;\n",
       "    }\n",
       "</style>\n",
       "<table border=\"1\" class=\"dataframe\">\n",
       "  <thead>\n",
       "    <tr style=\"text-align: right;\">\n",
       "      <th></th>\n",
       "      <th>ID</th>\n",
       "      <th>ProductID</th>\n",
       "      <th>ClientID</th>\n",
       "      <th>Discount</th>\n",
       "      <th>UnitPrice</th>\n",
       "      <th>Quantity</th>\n",
       "      <th>StoreID</th>\n",
       "      <th>Date</th>\n",
       "      <th>Name</th>\n",
       "      <th>Size</th>\n",
       "      <th>City</th>\n",
       "      <th>State</th>\n",
       "      <th>DateOfBirth</th>\n",
       "      <th>Sex</th>\n",
       "    </tr>\n",
       "  </thead>\n",
       "  <tbody>\n",
       "    <tr>\n",
       "      <th>0</th>\n",
       "      <td>80260d682079b6090c8285b398c50d97</td>\n",
       "      <td>002552c0663708129c0019cc97552d7d3</td>\n",
       "      <td>14001</td>\n",
       "      <td>0.08</td>\n",
       "      <td>249.2</td>\n",
       "      <td>1</td>\n",
       "      <td>4</td>\n",
       "      <td>2018-12-10</td>\n",
       "      <td>Tempestade</td>\n",
       "      <td>G</td>\n",
       "      <td>Curitiba</td>\n",
       "      <td>PR</td>\n",
       "      <td>1985-06-28</td>\n",
       "      <td>Homem</td>\n",
       "    </tr>\n",
       "    <tr>\n",
       "      <th>1</th>\n",
       "      <td>3275736da1234f55d52bdf09d86b93bc</td>\n",
       "      <td>001b237c0e9bb435f2e54071129237e93</td>\n",
       "      <td>14001</td>\n",
       "      <td>0.10</td>\n",
       "      <td>162.4</td>\n",
       "      <td>1</td>\n",
       "      <td>4</td>\n",
       "      <td>2019-04-25</td>\n",
       "      <td>Thanos</td>\n",
       "      <td>G</td>\n",
       "      <td>Curitiba</td>\n",
       "      <td>PR</td>\n",
       "      <td>1985-06-28</td>\n",
       "      <td>Homem</td>\n",
       "    </tr>\n",
       "    <tr>\n",
       "      <th>2</th>\n",
       "      <td>f3513eec8f1434b5b7e04ddf3598df40</td>\n",
       "      <td>00066f42aeeb9f3007548bb9d3f33c381</td>\n",
       "      <td>14001</td>\n",
       "      <td>0.10</td>\n",
       "      <td>194.6</td>\n",
       "      <td>1</td>\n",
       "      <td>4</td>\n",
       "      <td>2019-07-17</td>\n",
       "      <td>Capitão América</td>\n",
       "      <td>P</td>\n",
       "      <td>Curitiba</td>\n",
       "      <td>PR</td>\n",
       "      <td>1985-06-28</td>\n",
       "      <td>Homem</td>\n",
       "    </tr>\n",
       "    <tr>\n",
       "      <th>3</th>\n",
       "      <td>7ab64f42a8f9ab290e920eed320d7e60</td>\n",
       "      <td>002552c0663708129c0019cc97552d7d3</td>\n",
       "      <td>14002</td>\n",
       "      <td>0.10</td>\n",
       "      <td>249.2</td>\n",
       "      <td>1</td>\n",
       "      <td>1</td>\n",
       "      <td>2019-03-28</td>\n",
       "      <td>Tempestade</td>\n",
       "      <td>G</td>\n",
       "      <td>Florianópolis</td>\n",
       "      <td>SC</td>\n",
       "      <td>1987-01-10</td>\n",
       "      <td>Homem</td>\n",
       "    </tr>\n",
       "    <tr>\n",
       "      <th>4</th>\n",
       "      <td>7180475b60fe6bbbde424d39704a1177</td>\n",
       "      <td>001b72dfd63e9833e8c02742adf472e33</td>\n",
       "      <td>14002</td>\n",
       "      <td>0.10</td>\n",
       "      <td>201.6</td>\n",
       "      <td>2</td>\n",
       "      <td>1</td>\n",
       "      <td>2018-04-10</td>\n",
       "      <td>Wolverine</td>\n",
       "      <td>G</td>\n",
       "      <td>Florianópolis</td>\n",
       "      <td>SC</td>\n",
       "      <td>1987-01-10</td>\n",
       "      <td>Homem</td>\n",
       "    </tr>\n",
       "  </tbody>\n",
       "</table>\n",
       "</div>"
      ],
      "text/plain": [
       "                                 ID                          ProductID  \\\n",
       "0  80260d682079b6090c8285b398c50d97  002552c0663708129c0019cc97552d7d3   \n",
       "1  3275736da1234f55d52bdf09d86b93bc  001b237c0e9bb435f2e54071129237e93   \n",
       "2  f3513eec8f1434b5b7e04ddf3598df40  00066f42aeeb9f3007548bb9d3f33c381   \n",
       "3  7ab64f42a8f9ab290e920eed320d7e60  002552c0663708129c0019cc97552d7d3   \n",
       "4  7180475b60fe6bbbde424d39704a1177  001b72dfd63e9833e8c02742adf472e33   \n",
       "\n",
       "   ClientID  Discount  UnitPrice  Quantity  StoreID       Date  \\\n",
       "0     14001      0.08      249.2         1        4 2018-12-10   \n",
       "1     14001      0.10      162.4         1        4 2019-04-25   \n",
       "2     14001      0.10      194.6         1        4 2019-07-17   \n",
       "3     14002      0.10      249.2         1        1 2019-03-28   \n",
       "4     14002      0.10      201.6         2        1 2018-04-10   \n",
       "\n",
       "              Name Size           City State DateOfBirth    Sex  \n",
       "0       Tempestade    G       Curitiba    PR  1985-06-28  Homem  \n",
       "1           Thanos    G       Curitiba    PR  1985-06-28  Homem  \n",
       "2  Capitão América    P       Curitiba    PR  1985-06-28  Homem  \n",
       "3       Tempestade    G  Florianópolis    SC  1987-01-10  Homem  \n",
       "4        Wolverine    G  Florianópolis    SC  1987-01-10  Homem  "
      ]
     },
     "execution_count": 14,
     "metadata": {},
     "output_type": "execute_result"
    }
   ],
   "source": [
    "bd.head(5)"
   ]
  },
  {
   "cell_type": "markdown",
   "id": "a5ca5d4c",
   "metadata": {},
   "source": [
    "## Criando o Grafico de Corrêlação entre todos os dados de nosso DataFrame"
   ]
  },
  {
   "cell_type": "code",
   "execution_count": 15,
   "id": "d1012bfb",
   "metadata": {},
   "outputs": [
    {
     "data": {
      "image/png": "[encoded data removed]",
      "text/plain": [
       "<Figure size 1080x576 with 2 Axes>"
      ]
     },
     "metadata": {
      "needs_background": "light"
     },
     "output_type": "display_data"
    }
   ],
   "source": [
    "fig, ax = plt.subplots(figsize=(15, 8))\n",
    "sns.heatmap(bd.corr(), annot=True)\n",
    "ax.set_title(\"Correlação do DataFrame\", fontdict={'fontsize':15})\n",
    "ax.tick_params(labelsize=14)\n",
    "fig.tight_layout();"
   ]
  },
  {
   "cell_type": "markdown",
   "id": "0936d48a",
   "metadata": {},
   "source": [
    "## Qual foi o produtos mais vendido?"
   ]
  },
  {
   "cell_type": "code",
   "execution_count": 16,
   "id": "cc3ef339",
   "metadata": {},
   "outputs": [
    {
     "data": {
      "text/plain": [
       "Iron Man               1420\n",
       "League Legends         1403\n",
       "Capitã Marvel          1399\n",
       "Thanos                 1388\n",
       "Ciclope                1386\n",
       "Homer Simpsons         1382\n",
       "Super Mario            1381\n",
       "Bazinga                1380\n",
       "Deadpool               1378\n",
       "Batman                 1373\n",
       "Wolverine              1372\n",
       "Coringa                1369\n",
       "Dragon Ball Z          1366\n",
       "Flash                  1363\n",
       "Pokemon Go Squirtle    1362\n",
       "Mulher-Maravilha       1359\n",
       "Rick Morty             1358\n",
       "Darth Vader            1357\n",
       "BIXDream               1347\n",
       "Thor                   1333\n",
       "Capitão América        1331\n",
       "Pantera Negra          1323\n",
       "Tempestade             1318\n",
       "Naruto                 1305\n",
       "Name: Name, dtype: int64"
      ]
     },
     "execution_count": 16,
     "metadata": {},
     "output_type": "execute_result"
    }
   ],
   "source": [
    "#Resposta = Iron Man com 1420 vendas.\n",
    "# bd.Name.value_counts()\n",
    "bd['Name'].value_counts(sort=True)"
   ]
  },
  {
   "cell_type": "markdown",
   "id": "600b6008",
   "metadata": {},
   "source": [
    "## Qual a quantidade que cada sexo comprou do produto que foi mais vendido?"
   ]
  },
  {
   "cell_type": "code",
   "execution_count": 17,
   "id": "448bf150",
   "metadata": {},
   "outputs": [
    {
     "name": "stdout",
     "output_type": "stream",
     "text": [
      "Quantidade de Homens 1267 e Mulheres 153 que compraram o produto mais vendido \n",
      "Iron Man!\n"
     ]
    },
    {
     "data": {
      "text/html": [
       "<div>\n",
       "<style scoped>\n",
       "    .dataframe tbody tr th:only-of-type {\n",
       "        vertical-align: middle;\n",
       "    }\n",
       "\n",
       "    .dataframe tbody tr th {\n",
       "        vertical-align: top;\n",
       "    }\n",
       "\n",
       "    .dataframe thead th {\n",
       "        text-align: right;\n",
       "    }\n",
       "</style>\n",
       "<table border=\"1\" class=\"dataframe\">\n",
       "  <thead>\n",
       "    <tr style=\"text-align: right;\">\n",
       "      <th>Produto Mais Vendido</th>\n",
       "      <th>Homem</th>\n",
       "      <th>Mulher</th>\n",
       "    </tr>\n",
       "  </thead>\n",
       "  <tbody>\n",
       "    <tr>\n",
       "      <th>Iron Man</th>\n",
       "      <td>1267</td>\n",
       "      <td>153</td>\n",
       "    </tr>\n",
       "  </tbody>\n",
       "</table>\n",
       "</div>"
      ],
      "text/plain": [
       "Produto Mais Vendido  Homem  Mulher\n",
       "Iron Man               1267     153"
      ]
     },
     "execution_count": 17,
     "metadata": {},
     "output_type": "execute_result"
    }
   ],
   "source": [
    "# Resposta = Homem -> 1267 e mulher -> 153\n",
    "homem_qtd = (bd['Name'] == 'Iron Man' ) & (bd['Sex'] == 'Homem' )\n",
    "mulher_qtd = (bd['Name'] == 'Iron Man' ) & (bd['Sex'] == 'Mulher' )\n",
    "rh,rm= bd[homem_qtd],bd[mulher_qtd]\n",
    "\n",
    "dados = {'Homem': rh.shape[0],\n",
    "         'Mulher': rm.shape[0],\n",
    "         }\n",
    "\n",
    "print(f'''Quantidade de Homens {rh.shape[0]} e Mulheres {rm.shape[0]} que compraram o produto mais vendido \n",
    "{rm.values[0][8]}!''')\n",
    "pd_mais_vendido_por_sexo = pd.DataFrame(dados,index=[f'{rm.values[0][8]}'])\n",
    "pd_mais_vendido_por_sexo.index.name = None\n",
    "pd_mais_vendido_por_sexo.columns.name = 'Produto Mais Vendido'\n",
    "pd_mais_vendido_por_sexo\n"
   ]
  },
  {
   "cell_type": "markdown",
   "id": "9992529e",
   "metadata": {},
   "source": [
    "### QUAL O SEXO QUE COMPROU MAIS PRODUTOS?"
   ]
  },
  {
   "cell_type": "code",
   "execution_count": 18,
   "id": "9003622f",
   "metadata": {},
   "outputs": [
    {
     "data": {
      "text/plain": [
       "Homem     28705\n",
       "Mulher     4048\n",
       "Name: Sex, dtype: int64"
      ]
     },
     "execution_count": 18,
     "metadata": {},
     "output_type": "execute_result"
    }
   ],
   "source": [
    "#Resposta = Homen com 28705 compras.\n",
    "bd.Sex.value_counts()"
   ]
  },
  {
   "cell_type": "markdown",
   "id": "3405fb18",
   "metadata": {},
   "source": [
    "### QUAL A IDADE DE QUEM COMPROU O PRODUTO?"
   ]
  },
  {
   "cell_type": "code",
   "execution_count": 19,
   "id": "94ebca20",
   "metadata": {
    "scrolled": true
   },
   "outputs": [
    {
     "name": "stdout",
     "output_type": "stream",
     "text": [
      "A Idade de quem mais comprou os produtos é de 35anos, com um total de 1669 compras.\n"
     ]
    }
   ],
   "source": [
    "# Usando o dt.year - nós conseguimos pegar apenas os anos e assim fazer o calculo.\n",
    "idade = 2019 - bd.DateOfBirth.dt.year\n",
    "date.today()\n",
    "#Acabei de incluir no DT uma nova coluna com as idades com referencia ao ano de 2020\n",
    "bd['Idade'] = 2020 - bd.DateOfBirth.dt.year\n",
    "# Resposta a idade que mais comprou produtos foi de 35 Anos - um total de 1669 vendas.\n",
    "idade = idade.value_counts().head(1)\n",
    "print(f'A Idade de quem mais comprou os produtos é de {idade.index[0]}anos, com um total de {idade.values[0]} compras.')"
   ]
  },
  {
   "cell_type": "code",
   "execution_count": 20,
   "id": "9529f862",
   "metadata": {},
   "outputs": [
    {
     "data": {
      "image/png": "[encoded data removed]",
      "text/plain": [
       "<Figure size 720x720 with 1 Axes>"
      ]
     },
     "metadata": {
      "needs_background": "light"
     },
     "output_type": "display_data"
    }
   ],
   "source": [
    "plt.figure(figsize =(10,10))\n",
    "idades = 2019 - bd.DateOfBirth.dt.year\n",
    "x=idades.value_counts().index\n",
    "y=idades.value_counts().values\n",
    "grafico_1 = plt.barh(x,y, edgecolor=\"white\", linewidth=0.9, color='cornflowerblue')\n",
    "plt.bar_label(grafico_1, fmt=\"%.0d\", size=10, label_type=\"edge\")\n",
    "plt.yticks(ticks=x, size='large')\n",
    "plt.title(\"Quantidade de compras por Idade\",{'fontsize': 18})\n",
    "plt.ylabel(\"Idade(Anos)\",rotation=0, ha=\"right\")\n",
    "plt.xlabel(\"Quantidade de compras\")\n",
    "plt.tight_layout()\n",
    "plt.show()\n"
   ]
  },
  {
   "cell_type": "markdown",
   "id": "c28fe2f6",
   "metadata": {},
   "source": [
    "### QUAL A DATA QUE COMPRARAM MAIS PRODUTOS?"
   ]
  },
  {
   "cell_type": "code",
   "execution_count": 21,
   "id": "665b7310",
   "metadata": {
    "scrolled": true
   },
   "outputs": [
    {
     "data": {
      "text/plain": [
       "2018-12-24    99\n",
       "2019-06-07    96\n",
       "2018-12-07    96\n",
       "2018-12-30    95\n",
       "2018-06-02    94\n",
       "              ..\n",
       "2020-01-25    13\n",
       "2020-01-26    13\n",
       "2020-01-29    13\n",
       "2020-01-24    10\n",
       "2020-01-19    10\n",
       "Name: Date, Length: 690, dtype: int64"
      ]
     },
     "execution_count": 21,
     "metadata": {},
     "output_type": "execute_result"
    }
   ],
   "source": [
    "# Resposta = A data que mais compraram foi em 2018-12-24 com uma quantidade de 99 vendas no mesmo dia.\n",
    "bd.Date.value_counts()\n"
   ]
  },
  {
   "cell_type": "code",
   "execution_count": 22,
   "id": "3f9aacd0",
   "metadata": {},
   "outputs": [
    {
     "data": {
      "image/png": "[encoded data removed]",
      "text/plain": [
       "<Figure size 720x360 with 1 Axes>"
      ]
     },
     "metadata": {
      "needs_background": "light"
     },
     "output_type": "display_data"
    }
   ],
   "source": [
    "data_maiores_compras = bd.Date.value_counts()\n",
    "data = data_maiores_compras.index[:5]\n",
    "dmc_i = data.strftime('%d/%m/%Y')\n",
    "dmc_v = data_maiores_compras.values[:5]\n",
    "plt.figure(figsize =(10,5))\n",
    "\n",
    "grafico_2 = plt.bar(dmc_i,dmc_v, ec = \"k\", alpha = .5, color = \"royalblue\")\n",
    "plt.bar_label(grafico_2,labels=dmc_v, fmt=\"%.0d\", size=10, label_type=\"edge\")\n",
    "plt.title(\"As 5 maiores datas de compras\",{'fontsize': 18})\n",
    "plt.ylabel(\"Quantidade\",rotation=40, ha=\"right\")\n",
    "plt.xlabel(\"Datas\")\n",
    "# plt.xticks(ticks=None, size='small',rotation=40, ha=\"right\")\n",
    "plt.show()"
   ]
  },
  {
   "cell_type": "markdown",
   "id": "218e6b32",
   "metadata": {},
   "source": [
    "### QUAL O MÊS QUE MAIS COMPRARAM PRODUTOS?"
   ]
  },
  {
   "cell_type": "code",
   "execution_count": 23,
   "id": "fbc4305d",
   "metadata": {},
   "outputs": [
    {
     "data": {
      "text/plain": [
       "12    4284\n",
       "8     3751\n",
       "6     3673\n",
       "11    3036\n",
       "7     2917\n",
       "9     2719\n",
       "5     2544\n",
       "3     2455\n",
       "10    2449\n",
       "4     2382\n",
       "1     1743\n",
       "2      800\n",
       "Name: Date, dtype: int64"
      ]
     },
     "execution_count": 23,
     "metadata": {},
     "output_type": "execute_result"
    }
   ],
   "source": [
    "# Resposta o mès que mais foi comprado produtos foi o mês de Dezembro 12  com um total de 4284 vendas.\n",
    "bd.Date.dt.month.value_counts()"
   ]
  },
  {
   "cell_type": "code",
   "execution_count": 24,
   "id": "5a8e763f",
   "metadata": {},
   "outputs": [
    {
     "data": {
      "image/png": "[encoded data removed]",
      "text/plain": [
       "<Figure size 864x432 with 1 Axes>"
      ]
     },
     "metadata": {
      "needs_background": "light"
     },
     "output_type": "display_data"
    }
   ],
   "source": [
    "compras_no_ano = bd.Date.dt.month.value_counts()\n",
    "meses_c= compras_no_ano.index\n",
    "qtd_c = compras_no_ano.values\n",
    "plt.figure(figsize =(12,6))\n",
    "grafico_mes_maiores_vendas = plt.bar(meses_c,qtd_c, ec = \"k\", alpha = .5, color = \"steelblue\")\n",
    "plt.bar_label(grafico_mes_maiores_vendas,labels=qtd_c, fmt=\"%.0d\", size=15, label_type=\"edge\")\n",
    "plt.title(\"Meses de Maiores Vendas\",{'fontsize': 18})\n",
    "plt.ylabel(\"Quantidade\",rotation=40, ha=\"right\")\n",
    "plt.xlabel(\"Meses\")\n",
    "plt.xticks(ticks=meses_c, size='large')\n",
    "plt.tight_layout()\n",
    "plt.show()"
   ]
  },
  {
   "cell_type": "markdown",
   "id": "f7678cbb",
   "metadata": {},
   "source": [
    "### QUAL O ANO QUE MAIS COMPRARAM PRODUTOS?"
   ]
  },
  {
   "cell_type": "code",
   "execution_count": 25,
   "id": "bb373621",
   "metadata": {},
   "outputs": [
    {
     "data": {
      "text/plain": [
       "2018    17254\n",
       "2019    14768\n",
       "2020      731\n",
       "Name: Date, dtype: int64"
      ]
     },
     "execution_count": 25,
     "metadata": {},
     "output_type": "execute_result"
    }
   ],
   "source": [
    "# Resposta :  O ano foi o de 2018 com um total de 17254 vendas.\n",
    "bd.Date.dt.year.value_counts()"
   ]
  },
  {
   "cell_type": "code",
   "execution_count": 26,
   "id": "5a1814af",
   "metadata": {},
   "outputs": [
    {
     "data": {
      "image/png": "[encoded data removed]",
      "text/plain": [
       "<Figure size 864x432 with 1 Axes>"
      ]
     },
     "metadata": {
      "needs_background": "light"
     },
     "output_type": "display_data"
    }
   ],
   "source": [
    "compras_tds_ano = bd.Date.dt.year.value_counts()\n",
    "anos= compras_tds_ano.index\n",
    "qtd_ca = compras_tds_ano.values\n",
    "plt.figure(figsize =(12,6))\n",
    "cores=['tab:blue','tab:orange', 'c']\n",
    "grafico_ano_maiores_vendas = plt.bar(anos,qtd_ca, ec = \"k\", alpha = .6, color = cores)\n",
    "plt.bar_label(grafico_ano_maiores_vendas,labels=qtd_ca, fmt=\"%.0d\", size=13, label_type=\"center\", color='Black')\n",
    "plt.title(\"Anos de Maiores Vendas\",{'fontsize': 18})\n",
    "plt.ylabel(\"Quantidade Compras\",rotation=90)\n",
    "plt.xlabel(\"Anos\")\n",
    "plt.xticks(ticks=anos, size='large', color='DarkBlue')\n",
    "plt.yticks(ticks=None, size='large', color='DarkBlue')\n",
    "plt.show()"
   ]
  },
  {
   "cell_type": "markdown",
   "id": "df90690e",
   "metadata": {},
   "source": [
    "## Qual foi a Loja que mais vendeu produtos?"
   ]
  },
  {
   "cell_type": "code",
   "execution_count": 27,
   "id": "7cf11825",
   "metadata": {},
   "outputs": [
    {
     "data": {
      "text/plain": [
       "StoreID\n",
       "1     8230\n",
       "2     6838\n",
       "3     6167\n",
       "4     5172\n",
       "7     3588\n",
       "9     1845\n",
       "22     913\n",
       "dtype: int64"
      ]
     },
     "execution_count": 27,
     "metadata": {},
     "output_type": "execute_result"
    }
   ],
   "source": [
    "#Resposta = Loja 1 com 8230 vendas no total.\n",
    "grupo_store = bd.groupby('StoreID')\n",
    "grupo_store.groups\n",
    "\n",
    "grupo_store[[ 'StoreID']].value_counts()"
   ]
  },
  {
   "cell_type": "code",
   "execution_count": 28,
   "id": "ed63d7f8",
   "metadata": {},
   "outputs": [
    {
     "data": {
      "image/png": "[encoded data removed]",
      "text/plain": [
       "<Figure size 1080x576 with 1 Axes>"
      ]
     },
     "metadata": {
      "needs_background": "light"
     },
     "output_type": "display_data"
    }
   ],
   "source": [
    "lojas_mais_venderam = bd['StoreID'].value_counts()\n",
    "lojas= lojas_mais_venderam.index\n",
    "qtd_vendas = lojas_mais_venderam.values\n",
    "\n",
    "\n",
    "fig, ax = plt.subplots(figsize=(15, 8))\n",
    "sns.countplot(x='StoreID', data=bd,palette='YlGnBu')\n",
    "# sns.heatmap(pid.corr(), annot=True)\n",
    "ax.set_title(\"Lojas X Vendas\", fontdict={'fontsize':15})\n",
    "ax.set_xlabel('Lojas', fontdict={'fontsize':14})\n",
    "ax.set_ylabel('Quantidades', fontdict={'fontsize':14})\n",
    "ax.tick_params(labelsize=14)\n",
    "fig.tight_layout();"
   ]
  },
  {
   "cell_type": "code",
   "execution_count": 29,
   "id": "ed12f24b",
   "metadata": {},
   "outputs": [
    {
     "data": {
      "image/png": "[encoded data removed]",
      "text/plain": [
       "<Figure size 720x360 with 1 Axes>"
      ]
     },
     "metadata": {},
     "output_type": "display_data"
    }
   ],
   "source": [
    "lojas_mais_venderam = grupo_store[[ 'StoreID']].value_counts()\n",
    "lojas= lojas_mais_venderam.index\n",
    "qtd_vendas = lojas_mais_venderam.values\n",
    "plt.figure(figsize =(10,5))\n",
    "cores=['royalblue', 'lightcoral', 'steelblue', 'tab:pink', 'green','lightskyblue', 'yellowgreen']\n",
    "explode = (0.1, 0, 0, 0, 0, 0, 0)  # explode 1st slice\n",
    "plt.title('Lojas com maiores quantidades de vendas')\n",
    "plt.pie(lojas_mais_venderam, explode=explode, labels=lojas, colors=cores, autopct='%1.1f%%', shadow=True, startangle=90)\n",
    "plt.legend(lojas,loc='upper right')\n",
    "plt.axis('equal')\n",
    "plt.tight_layout()\n",
    "plt.show()"
   ]
  },
  {
   "cell_type": "markdown",
   "id": "481c210a",
   "metadata": {},
   "source": [
    "### QUAL O FATURAMENTO DA LOJA QUE MAIS VENDEU ?"
   ]
  },
  {
   "cell_type": "code",
   "execution_count": 30,
   "id": "bb1db7c4",
   "metadata": {
    "scrolled": false
   },
   "outputs": [
    {
     "data": {
      "image/png": "[encoded data removed]",
      "text/plain": [
       "<Figure size 720x360 with 1 Axes>"
      ]
     },
     "metadata": {
      "needs_background": "light"
     },
     "output_type": "display_data"
    },
    {
     "data": {
      "text/plain": [
       "<Figure size 720x360 with 0 Axes>"
      ]
     },
     "metadata": {},
     "output_type": "display_data"
    }
   ],
   "source": [
    "# Resposta : A Loja que mais vendeu foi a loja n° 1 com um  faturamento total de R$1.940.307,60 e um total de Faturamento com os descontos de R$ 1.759.625,76\n",
    "bd['Total das Vendas'] = bd['UnitPrice'] * bd['Quantity']\n",
    "bd['Total das Vendas c/desconto'] = (1 - bd['Discount']) * bd['UnitPrice'] * bd['Quantity']\n",
    "valore_de_vendas = grupo_store[['Total das Vendas','Total das Vendas c/desconto']].sum().round(2)\n",
    "\n",
    "cores_Lojas = ['Steelblue','red', ]\n",
    "\n",
    "\n",
    "plt.rc('figure',figsize =(10,5))\n",
    "fig = grupo_store[['Total das Vendas','Total das Vendas c/desconto']].sum().round(2).plot.bar(color=cores_Lojas)\n",
    "fig.set_ylabel('Valores em Milhões(R$)',{'fontsize': 18})\n",
    "fig.set_title('Total de Vendas por Loja',{'fontsize': 18})\n",
    "plt.legend(loc=\"best\",fontsize= 12)\n",
    "plt.xticks(ticks=None, size='large', color='DarkBlue',rotation=0, ha=\"right\")\n",
    "plt.yticks(ticks=None, size='large', color='black',rotation=0, ha=\"right\")\n",
    "plt.figure()\n",
    "plt.show()\n"
   ]
  },
  {
   "cell_type": "markdown",
   "id": "e3f79967",
   "metadata": {},
   "source": [
    "### QUAL O/OS CLIENTES QUE MAIS COMPRARAM PRODUTOS?"
   ]
  },
  {
   "cell_type": "code",
   "execution_count": 31,
   "id": "5c33c308",
   "metadata": {},
   "outputs": [
    {
     "data": {
      "text/plain": [
       "26177    9\n",
       "19089    9\n",
       "22056    9\n",
       "17631    9\n",
       "16610    8\n",
       "        ..\n",
       "15190    1\n",
       "15229    1\n",
       "15179    1\n",
       "15484    1\n",
       "28470    1\n",
       "Name: ClientID, Length: 13650, dtype: int64"
      ]
     },
     "execution_count": 31,
     "metadata": {},
     "output_type": "execute_result"
    }
   ],
   "source": [
    "# Resposta: Os clientes foram 26177,19089,22056,17631  todos com um total de 9 compras.\n",
    "bd.ClientID.value_counts()"
   ]
  },
  {
   "cell_type": "code",
   "execution_count": 32,
   "id": "a2cf13ea",
   "metadata": {},
   "outputs": [
    {
     "name": "stdout",
     "output_type": "stream",
     "text": [
      "Temos um total de 13650 clientes e dentre todos, os cinco que mais compraram foram os:\n",
      "26177    9\n",
      "19089    9\n",
      "22056    9\n",
      "17631    9\n",
      "16610    8\n",
      "Name: ClientID, dtype: int64\n"
     ]
    }
   ],
   "source": [
    "clientes_mais_qtd_compras = bd.ClientID.value_counts().head()\n",
    "todos_clientes = bd.ClientID.unique()\n",
    "qtd_clientes = len(todos_clientes)\n",
    "print(f'Temos um total de {qtd_clientes} clientes e dentre todos, os cinco que mais compraram foram os:\\n{clientes_mais_qtd_compras}')"
   ]
  },
  {
   "cell_type": "code",
   "execution_count": 33,
   "id": "ba017e6d",
   "metadata": {},
   "outputs": [
    {
     "data": {
      "text/html": [
       "<div>\n",
       "<style scoped>\n",
       "    .dataframe tbody tr th:only-of-type {\n",
       "        vertical-align: middle;\n",
       "    }\n",
       "\n",
       "    .dataframe tbody tr th {\n",
       "        vertical-align: top;\n",
       "    }\n",
       "\n",
       "    .dataframe thead th {\n",
       "        text-align: right;\n",
       "    }\n",
       "</style>\n",
       "<table border=\"1\" class=\"dataframe\">\n",
       "  <thead>\n",
       "    <tr style=\"text-align: right;\">\n",
       "      <th></th>\n",
       "      <th>Cliente</th>\n",
       "      <th>Quatidade de Compras</th>\n",
       "    </tr>\n",
       "  </thead>\n",
       "  <tbody>\n",
       "    <tr>\n",
       "      <th>1°</th>\n",
       "      <td>26177</td>\n",
       "      <td>9</td>\n",
       "    </tr>\n",
       "    <tr>\n",
       "      <th>2°</th>\n",
       "      <td>19089</td>\n",
       "      <td>9</td>\n",
       "    </tr>\n",
       "    <tr>\n",
       "      <th>3°</th>\n",
       "      <td>22056</td>\n",
       "      <td>9</td>\n",
       "    </tr>\n",
       "    <tr>\n",
       "      <th>4°</th>\n",
       "      <td>17631</td>\n",
       "      <td>9</td>\n",
       "    </tr>\n",
       "    <tr>\n",
       "      <th>5°</th>\n",
       "      <td>16610</td>\n",
       "      <td>8</td>\n",
       "    </tr>\n",
       "  </tbody>\n",
       "</table>\n",
       "</div>"
      ],
      "text/plain": [
       "    Cliente  Quatidade de Compras\n",
       "1°    26177                     9\n",
       "2°    19089                     9\n",
       "3°    22056                     9\n",
       "4°    17631                     9\n",
       "5°    16610                     8"
      ]
     },
     "metadata": {},
     "output_type": "display_data"
    }
   ],
   "source": [
    "ci=bd.ClientID.value_counts().head().index\n",
    "cv=bd.ClientID.value_counts().head().values\n",
    "df = pd.DataFrame({'Cliente':ci, 'Quatidade de Compras': cv}, index=['1°','2°','3°','4°','5°'])\n",
    "display(df)"
   ]
  },
  {
   "cell_type": "code",
   "execution_count": 34,
   "id": "0ae685f4",
   "metadata": {},
   "outputs": [
    {
     "data": {
      "image/png": "[encoded data removed]",
      "text/plain": [
       "<Figure size 1440x1440 with 6 Axes>"
      ]
     },
     "metadata": {
      "needs_background": "light"
     },
     "output_type": "display_data"
    }
   ],
   "source": [
    "# Grafico da resposta acima\n",
    "%matplotlib inline\n",
    "import pandas as pd\n",
    "import matplotlib.pyplot as plt\n",
    "plt.rc('figure', figsize = (20,20))\n",
    "\n",
    "\n",
    "area = plt.figure()\n",
    "g1 = area.add_subplot(3,2,1)\n",
    "g2 = area.add_subplot(3,2,2)\n",
    "g3 = area.add_subplot(3,2,3)\n",
    "g4 = area.add_subplot(3,2,4)\n",
    "g5 = area.add_subplot(3,2,5)\n",
    "g6 = area.add_subplot(3,2,6)\n",
    "# g7 = area.add_subplot(3,2,7)\n",
    "# g8 = area.add_subplot(3,2,8)\n",
    "# g9 = area.add_subplot(3,2,9)\n",
    "\n",
    "\n",
    "#G1 - Quantidade de vendas por lojas\n",
    "grupo1 = bd.groupby('StoreID')['ClientID']\n",
    "label = grupo1.count().index\n",
    "valores = grupo1.count().values\n",
    "g1.pie(valores, labels = label, autopct='%1.1f%%', startangle=90)\n",
    "g1.set_title('Quantidade de clientes por Loja')\n",
    "g1.legend(label,loc='upper right')\n",
    "plt.tight_layout()\n",
    "\n",
    "\n",
    "#G2 - Sexo que mais comprou\n",
    "cores_sexo = ['cornflowerblue','tab:pink', ]\n",
    "x=bd.Sex.value_counts().index\n",
    "y=bd.Sex.value_counts().values\n",
    "\n",
    "grupo2 =g2.bar(x,y,color=cores_sexo)\n",
    "g2.set_title('Sexo que mais comprou em todas as lojas')\n",
    "g2.bar_label(grupo2, fmt=\"%.0d\", size=18,color='White', label_type=\"center\")\n",
    "g2\n",
    "\n",
    "\n",
    "#G3 - Cidade que mais vendeu\n",
    "# Example data\n",
    "cidade = bd.City.value_counts().head(6)\n",
    "cidades = cidade.index.tolist()\n",
    "y_pos = np.arange(len(cidades))\n",
    "performance = cidade.values\n",
    "\n",
    "grupo3 = g3.barh(y_pos, performance, align='center',color= 'xkcd:sky blue')\n",
    "g3.set_yticks(y_pos, labels=cidades)\n",
    "g3.invert_yaxis()  \n",
    "g3.set_xlabel('Quantidades')\n",
    "g3.set_title('Cidades com os maiores numeros de vendas')\n",
    "\n",
    "g3.bar_label(grupo3,labels=performance, fmt=\"%.0d\", size=15, label_type=\"center\")\n",
    "g3.axvline(cidade.max(), ls='--', color='r')\n",
    "plt.tight_layout()\n",
    "g3\n",
    "\n",
    "\n",
    "\n",
    "#G4 - Quantidade de vendas por cada estado.\n",
    "grupo =bd.groupby('State')['StoreID']\n",
    "label = grupo.count().index\n",
    "valores = grupo.count().values\n",
    "grupo4 = g4.bar(label,sorted(valores))\n",
    "g4.bar_label(grupo4,labels=sorted(valores), fmt=\"%.0d\", size=12, label_type=\"edge\")\n",
    "g4.set_title('Quantidade de compras por Estado')\n",
    "g4.invert_xaxis()\n",
    "plt.tight_layout()\n",
    "\n",
    "\n",
    "\n",
    "#G5\n",
    "nome = bd.Name.value_counts()\n",
    "n1=nome.index.tolist() # Desta maneira ele pega todas as keys e coloca dentro de uma lista.\n",
    "quantidade_nomes = bd.Name.value_counts().values\n",
    "\n",
    "grupo5 =g5.barh(n1,quantidade_nomes,color='skyblue')\n",
    "g5.bar_label(grupo5,labels=quantidade_nomes, fmt=\"%.0d\", size=12, label_type=\"center\")\n",
    "g5.set_title('Produtos mais Vendidos')\n",
    "g5.invert_yaxis()\n",
    "# g5.grid(True)\n",
    "plt.tight_layout()\n",
    "\n",
    "\n",
    "#G6\n",
    "dados = pd.DataFrame(bd[[ 'StoreID','Date','Total das Vendas']])\n",
    "tabela = dados[['StoreID','Date','Total das Vendas']].groupby(['StoreID']).sum()\n",
    "faturamento_loja = pd.DataFrame(tabela)\n",
    "faturamento_loja = faturamento_loja.reset_index()\n",
    "\n",
    "fi = faturamento_loja['StoreID'].index\n",
    "fii = faturamento_loja['StoreID']\n",
    "vi = faturamento_loja['Total das Vendas']\n",
    "\n",
    "colors=[\"#20257c\", \"#424ad1\", \"#6a8ee8\", \"#66bbe2\", \"#66dee2\", \"#6ce2cb\", \"#6ad187\", \"#3b7f5b\"]\n",
    "\n",
    "grupo6 =g6.bar(fi,vi,color= colors)\n",
    "g6.bar_label(grupo6,labels=fii, fmt=\"%.0d\", size=15, label_type=\"center\",color =\"White\")\n",
    "\n",
    "plt.xticks([])\n",
    "plt.yticks(ticks=vi, size='large', color='black',rotation=0, ha=\"right\")\n",
    "g6.set_ylabel('Valores em Milhões(R$)',{'fontsize': 18})\n",
    "\n",
    "g6.set_title('Faturamento Bruto por Loja')\n",
    "\n",
    "plt.tight_layout()\n"
   ]
  },
  {
   "cell_type": "markdown",
   "id": "8f53b21f",
   "metadata": {},
   "source": [
    "# Análise das Vendas por Loja"
   ]
  },
  {
   "cell_type": "code",
   "execution_count": 35,
   "id": "a91f29d8",
   "metadata": {},
   "outputs": [],
   "source": [
    "dados = pd.DataFrame(bd[[ 'StoreID','Date','Quantity']])\n",
    "\n",
    "dados['mes'] = dados['Date'].dt.month\n",
    "dados['ano'] = dados['Date'].dt.year\n",
    "\n",
    "loja1 = dados[dados['StoreID'] == 1]\n",
    "loja2 = dados[dados['StoreID'] == 2]\n",
    "loja3 = dados[dados['StoreID'] == 3]\n",
    "loja4 = dados[dados['StoreID'] == 4]\n",
    "loja7 = dados[dados['StoreID'] == 7]\n",
    "loja9 = dados[dados['StoreID'] == 9]\n",
    "loja22 = dados[dados['StoreID'] == 22]\n",
    "\n",
    "\n",
    "tab_l1  = loja1 [['StoreID','mes','Quantity','ano']].groupby(['StoreID','mes','ano']).sum()\n",
    "tab_l2  = loja2 [['mes','Quantity','ano']].groupby(['mes','ano']).sum()\n",
    "tab_l3  = loja3 [['mes','Quantity','ano']].groupby(['mes','ano']).sum()\n",
    "tab_l4  = loja4 [['mes','Quantity','ano']].groupby(['mes','ano']).sum()\n",
    "tab_l7  = loja7 [['mes','Quantity','ano']].groupby(['mes','ano']).sum()\n",
    "tab_l9  = loja9 [['mes','Quantity','ano']].groupby(['mes','ano']).sum()\n",
    "tab_l22 = loja22[['mes','Quantity','ano']].groupby(['mes','ano']).sum()\n",
    "\n",
    "loja1 =  pd.DataFrame(tab_l1 ).reset_index(drop=False)\n",
    "loja2 =  pd.DataFrame(tab_l2 ).reset_index(drop=False)\n",
    "loja3 =  pd.DataFrame(tab_l3 ).reset_index(drop=False)\n",
    "loja4 =  pd.DataFrame(tab_l4 ).reset_index(drop=False)\n",
    "loja7 =  pd.DataFrame(tab_l7 ).reset_index(drop=False)\n",
    "loja9 =  pd.DataFrame(tab_l9 ).reset_index(drop=False)\n",
    "loja22 = pd.DataFrame(tab_l22).reset_index(drop=False)\n",
    "\n",
    "#LOJA 9\n",
    "# loja9 = dados[dados['StoreID'] == 9]\n",
    "\n",
    "# loja9 = pd.DataFrame(loja9)\n",
    "\n",
    "#Criando as colunas Mês e Ano no DF da loja 22\n",
    "# loja9['mes'] = loja9['Date'].dt.month\n",
    "# loja9['ano'] = loja9['Date'].dt.year\n",
    "\n",
    "#Criando uma DF com as quantidades de vendas por mês da loja 22\n",
    "# tab_l9 = loja9[['mes','Quantity','ano']].groupby(['mes','ano']).sum()\n",
    "\n",
    "# loja9 = pd.DataFrame(tab_l9).reset_index(drop=False)\n",
    "\n",
    "# loja92018 =loja9.query('ano == 2018')\n",
    "# loja92019 =loja9.query('ano == 2019')\n",
    "# loja92020 =loja9.query('ano == 2020')\n",
    "# # Criando o DF para incluir o aumento e a aceleração das vendas.\n",
    "# loja9_2018 = pd.DataFrame(loja92018).reset_index(drop=True)\n",
    "# loja9_2019 = pd.DataFrame(loja92019).reset_index(drop=True)\n",
    "# loja9_2020 = pd.DataFrame(loja92020).reset_index(drop=True)\n",
    "# #Criando a coluna Aumento e a coluna Aceleração\n",
    "# loja9_2018['aumento'] = loja9_2018['Quantity'].diff()\n",
    "# loja9_2018['aceleracao'] = loja9_2018['aumento'].diff()\n",
    "# #Criando a coluna Aumento e a coluna Aceleração\n",
    "# loja9_2018['aumento'] = loja9_2018['Quantity'].diff()\n",
    "# loja9_2018['aceleracao'] = loja22_2018['aumento'].diff()\n",
    "# # 2019\n",
    "# loja9_2019['aumento'] = loja9_2019['Quantity'].diff()\n",
    "# loja9_2019['aceleracao'] = loja9_2019['aumento'].diff()\n",
    "# #2020\n",
    "# loja9_2020['aumento'] = loja9_2020['Quantity'].diff()\n",
    "# loja9_2020['aceleracao'] = loja9_2020['aumento'].diff()\n",
    "\n",
    "\n",
    "#LOJA 22\n",
    "# loja22 = dados[dados['StoreID'] == 22]\n",
    "# loja22 = pd.DataFrame(loja22)\n",
    "#Criando as colunas Mês e Ano no DF da loja 22\n",
    "# loja22['mes'] = loja22['Date'].dt.month\n",
    "# loja22['ano'] = loja22['Date'].dt.year\n",
    "#Criando uma DF com as quantidades de vendas por mês da loja 22\n",
    "# tab_l22 = loja22[['mes','Quantity','ano']].groupby(['mes','ano']).sum()\n",
    "# loja22 = pd.DataFrame(tab_l22).reset_index(drop=False)\n",
    "# loja222018 =loja22.query('ano == 2018')\n",
    "# loja222019 =loja22.query('ano == 2019')\n",
    "# loja222020 =loja22.query('ano == 2020')\n",
    "# # Criando o DF para incluir o aumento e a aceleração das vendas.\n",
    "# loja22_2018 = pd.DataFrame(loja222018).reset_index(drop=True)\n",
    "# loja22_2019 = pd.DataFrame(loja222019).reset_index(drop=True)\n",
    "# loja22_2020 = pd.DataFrame(loja222020).reset_index(drop=True)\n",
    "# #Criando a coluna Aumento e a coluna Aceleração\n",
    "# loja22_2018['aumento'] = loja22_2018['Quantity'].diff()\n",
    "# loja22_2018['aceleracao'] = loja22_2018['aumento'].diff()\n",
    "# # 2019\n",
    "# loja22_2019['aumento'] = loja22_2019['Quantity'].diff()\n",
    "# loja22_2019['aceleracao'] = loja22_2019['aumento'].diff()\n",
    "# #2020\n",
    "# loja22_2020['aumento'] = loja22_2020['Quantity'].diff()\n",
    "# loja22_2020['aceleracao'] = loja22_2020['aumento'].diff()"
   ]
  },
  {
   "cell_type": "code",
   "execution_count": 36,
   "id": "c9804c26",
   "metadata": {},
   "outputs": [
    {
     "data": {
      "text/html": [
       "<div>\n",
       "<style scoped>\n",
       "    .dataframe tbody tr th:only-of-type {\n",
       "        vertical-align: middle;\n",
       "    }\n",
       "\n",
       "    .dataframe tbody tr th {\n",
       "        vertical-align: top;\n",
       "    }\n",
       "\n",
       "    .dataframe thead th {\n",
       "        text-align: right;\n",
       "    }\n",
       "</style>\n",
       "<table border=\"1\" class=\"dataframe\">\n",
       "  <thead>\n",
       "    <tr style=\"text-align: right;\">\n",
       "      <th></th>\n",
       "      <th>StoreID</th>\n",
       "      <th>mes</th>\n",
       "      <th>ano</th>\n",
       "      <th>Quantity</th>\n",
       "    </tr>\n",
       "  </thead>\n",
       "  <tbody>\n",
       "    <tr>\n",
       "      <th>0</th>\n",
       "      <td>1</td>\n",
       "      <td>1</td>\n",
       "      <td>2019</td>\n",
       "      <td>273</td>\n",
       "    </tr>\n",
       "    <tr>\n",
       "      <th>1</th>\n",
       "      <td>1</td>\n",
       "      <td>1</td>\n",
       "      <td>2020</td>\n",
       "      <td>193</td>\n",
       "    </tr>\n",
       "    <tr>\n",
       "      <th>2</th>\n",
       "      <td>1</td>\n",
       "      <td>2</td>\n",
       "      <td>2019</td>\n",
       "      <td>179</td>\n",
       "    </tr>\n",
       "    <tr>\n",
       "      <th>3</th>\n",
       "      <td>1</td>\n",
       "      <td>3</td>\n",
       "      <td>2018</td>\n",
       "      <td>337</td>\n",
       "    </tr>\n",
       "    <tr>\n",
       "      <th>4</th>\n",
       "      <td>1</td>\n",
       "      <td>3</td>\n",
       "      <td>2019</td>\n",
       "      <td>289</td>\n",
       "    </tr>\n",
       "    <tr>\n",
       "      <th>5</th>\n",
       "      <td>1</td>\n",
       "      <td>4</td>\n",
       "      <td>2018</td>\n",
       "      <td>344</td>\n",
       "    </tr>\n",
       "    <tr>\n",
       "      <th>6</th>\n",
       "      <td>1</td>\n",
       "      <td>4</td>\n",
       "      <td>2019</td>\n",
       "      <td>292</td>\n",
       "    </tr>\n",
       "    <tr>\n",
       "      <th>7</th>\n",
       "      <td>1</td>\n",
       "      <td>5</td>\n",
       "      <td>2018</td>\n",
       "      <td>377</td>\n",
       "    </tr>\n",
       "    <tr>\n",
       "      <th>8</th>\n",
       "      <td>1</td>\n",
       "      <td>5</td>\n",
       "      <td>2019</td>\n",
       "      <td>311</td>\n",
       "    </tr>\n",
       "    <tr>\n",
       "      <th>9</th>\n",
       "      <td>1</td>\n",
       "      <td>6</td>\n",
       "      <td>2018</td>\n",
       "      <td>469</td>\n",
       "    </tr>\n",
       "    <tr>\n",
       "      <th>10</th>\n",
       "      <td>1</td>\n",
       "      <td>6</td>\n",
       "      <td>2019</td>\n",
       "      <td>491</td>\n",
       "    </tr>\n",
       "    <tr>\n",
       "      <th>11</th>\n",
       "      <td>1</td>\n",
       "      <td>7</td>\n",
       "      <td>2018</td>\n",
       "      <td>490</td>\n",
       "    </tr>\n",
       "    <tr>\n",
       "      <th>12</th>\n",
       "      <td>1</td>\n",
       "      <td>7</td>\n",
       "      <td>2019</td>\n",
       "      <td>281</td>\n",
       "    </tr>\n",
       "    <tr>\n",
       "      <th>13</th>\n",
       "      <td>1</td>\n",
       "      <td>8</td>\n",
       "      <td>2018</td>\n",
       "      <td>488</td>\n",
       "    </tr>\n",
       "    <tr>\n",
       "      <th>14</th>\n",
       "      <td>1</td>\n",
       "      <td>8</td>\n",
       "      <td>2019</td>\n",
       "      <td>523</td>\n",
       "    </tr>\n",
       "    <tr>\n",
       "      <th>15</th>\n",
       "      <td>1</td>\n",
       "      <td>9</td>\n",
       "      <td>2018</td>\n",
       "      <td>444</td>\n",
       "    </tr>\n",
       "    <tr>\n",
       "      <th>16</th>\n",
       "      <td>1</td>\n",
       "      <td>9</td>\n",
       "      <td>2019</td>\n",
       "      <td>270</td>\n",
       "    </tr>\n",
       "    <tr>\n",
       "      <th>17</th>\n",
       "      <td>1</td>\n",
       "      <td>10</td>\n",
       "      <td>2018</td>\n",
       "      <td>427</td>\n",
       "    </tr>\n",
       "    <tr>\n",
       "      <th>18</th>\n",
       "      <td>1</td>\n",
       "      <td>10</td>\n",
       "      <td>2019</td>\n",
       "      <td>271</td>\n",
       "    </tr>\n",
       "    <tr>\n",
       "      <th>19</th>\n",
       "      <td>1</td>\n",
       "      <td>11</td>\n",
       "      <td>2018</td>\n",
       "      <td>570</td>\n",
       "    </tr>\n",
       "    <tr>\n",
       "      <th>20</th>\n",
       "      <td>1</td>\n",
       "      <td>11</td>\n",
       "      <td>2019</td>\n",
       "      <td>274</td>\n",
       "    </tr>\n",
       "    <tr>\n",
       "      <th>21</th>\n",
       "      <td>1</td>\n",
       "      <td>12</td>\n",
       "      <td>2018</td>\n",
       "      <td>667</td>\n",
       "    </tr>\n",
       "    <tr>\n",
       "      <th>22</th>\n",
       "      <td>1</td>\n",
       "      <td>12</td>\n",
       "      <td>2019</td>\n",
       "      <td>474</td>\n",
       "    </tr>\n",
       "  </tbody>\n",
       "</table>\n",
       "</div>"
      ],
      "text/plain": [
       "    StoreID  mes   ano  Quantity\n",
       "0         1    1  2019       273\n",
       "1         1    1  2020       193\n",
       "2         1    2  2019       179\n",
       "3         1    3  2018       337\n",
       "4         1    3  2019       289\n",
       "5         1    4  2018       344\n",
       "6         1    4  2019       292\n",
       "7         1    5  2018       377\n",
       "8         1    5  2019       311\n",
       "9         1    6  2018       469\n",
       "10        1    6  2019       491\n",
       "11        1    7  2018       490\n",
       "12        1    7  2019       281\n",
       "13        1    8  2018       488\n",
       "14        1    8  2019       523\n",
       "15        1    9  2018       444\n",
       "16        1    9  2019       270\n",
       "17        1   10  2018       427\n",
       "18        1   10  2019       271\n",
       "19        1   11  2018       570\n",
       "20        1   11  2019       274\n",
       "21        1   12  2018       667\n",
       "22        1   12  2019       474"
      ]
     },
     "execution_count": 36,
     "metadata": {},
     "output_type": "execute_result"
    }
   ],
   "source": [
    "loja1"
   ]
  },
  {
   "cell_type": "code",
   "execution_count": 37,
   "id": "341a444d",
   "metadata": {},
   "outputs": [],
   "source": [
    "def analise_loja(x,y1,dataset,dataset1,dataset2,titulo,titulo1,titulo2):\n",
    "    sns.set_palette( 'Blues_r')\n",
    "    sns.set_style('darkgrid')\n",
    "    plt.figure(figsize=(16,6)) \n",
    "    grafico = plt.subplot(3,1,1)\n",
    "    grafico.set_title(titulo,fontsize=18,loc='center')\n",
    "    sns.lineplot(x=x, y=y, data = dataset)\n",
    "    grafico1= plt.subplot(3,1,2)\n",
    "    grafico1.set_title(titulo1,fontsize=18,loc='center')\n",
    "    sns.lineplot(x=x, y=y, data = dataset1)\n",
    "    grafico2 = plt.subplot(3,1,3)\n",
    "    grafico2.set_title(titulo2,fontsize=18,loc='center')\n",
    "    sns.lineplot(x=x, y=y, data = dataset2)\n",
    "    plt.tight_layout()\n",
    "    grafico=grafico"
   ]
  },
  {
   "cell_type": "code",
   "execution_count": 38,
   "id": "0a278d5d",
   "metadata": {},
   "outputs": [],
   "source": [
    "def grafico_loja(x,y,dataset):\n",
    "#     sns.set_palette( 'Blues_r')\n",
    "#     sns.set_style('darkgrid')\n",
    "#     sns.set_theme(style=\"whitegrid\")\n",
    "    sns.set_theme(style=\"ticks\")\n",
    "    \n",
    "    plt.figure(figsize=(5,5)) \n",
    "    \n",
    "    grafico = sns.catplot(data=dataset, kind=\"bar\",x=x, y=y, hue=\"ano\", palette=\"twilight\", alpha=.7, height=8,color=\"mes\")\n",
    "\n",
    "    #grafico = sns.displot(data=dataset, x=x, y=y, hue='ano',kind=\"hist\", col = 'ano')\n",
    "    #grafico = sns.relplot(data=dataset, x=x, y=y, hue='ano', kind=\"line\")\n",
    "\n",
    "    plt.title(f'Quantidade de vendas por ano da loja {dataset.StoreID[0]}')\n",
    "#grafico.set_axis_labels(\"\", \"Quantidade de Vendas\")\n",
    " "
   ]
  },
  {
   "cell_type": "code",
   "execution_count": 39,
   "id": "c43f5b4b",
   "metadata": {},
   "outputs": [
    {
     "data": {
      "text/plain": [
       "<Figure size 360x360 with 0 Axes>"
      ]
     },
     "metadata": {},
     "output_type": "display_data"
    },
    {
     "data": {
      "image/png": "[encoded data removed]",
      "text/plain": [
       "<Figure size 640.1x576 with 1 Axes>"
      ]
     },
     "metadata": {},
     "output_type": "display_data"
    }
   ],
   "source": [
    "grafico_loja('mes','Quantity',loja1)"
   ]
  },
  {
   "cell_type": "code",
   "execution_count": 40,
   "id": "86662869",
   "metadata": {},
   "outputs": [
    {
     "ename": "NameError",
     "evalue": "name 'loja9_2018' is not defined",
     "output_type": "error",
     "traceback": [
      "\u001b[1;31m---------------------------------------------------------------------------\u001b[0m",
      "\u001b[1;31mNameError\u001b[0m                                 Traceback (most recent call last)",
      "Input \u001b[1;32mIn [40]\u001b[0m, in \u001b[0;36m<cell line: 1>\u001b[1;34m()\u001b[0m\n\u001b[1;32m----> 1\u001b[0m analise_loja(\u001b[38;5;124m'\u001b[39m\u001b[38;5;124mmes\u001b[39m\u001b[38;5;124m'\u001b[39m,\u001b[38;5;124m'\u001b[39m\u001b[38;5;124mQuantity\u001b[39m\u001b[38;5;124m'\u001b[39m,\u001b[43mloja9_2018\u001b[49m,loja9_2019,loja9_2020,\u001b[38;5;124m'\u001b[39m\u001b[38;5;124mVendas da Loja 9 - 2018\u001b[39m\u001b[38;5;124m'\u001b[39m,\u001b[38;5;124m'\u001b[39m\u001b[38;5;124mVendas da Loja 9 - 2019\u001b[39m\u001b[38;5;124m'\u001b[39m,\u001b[38;5;124m'\u001b[39m\u001b[38;5;124mVendas da Loja 9 - 2020\u001b[39m\u001b[38;5;124m'\u001b[39m)\n",
      "\u001b[1;31mNameError\u001b[0m: name 'loja9_2018' is not defined"
     ]
    }
   ],
   "source": [
    "analise_loja('mes','Quantity',loja9_2018,loja9_2019,loja9_2020,'Vendas da Loja 9 - 2018','Vendas da Loja 9 - 2019','Vendas da Loja 9 - 2020')"
   ]
  },
  {
   "cell_type": "code",
   "execution_count": null,
   "id": "50191ce6",
   "metadata": {},
   "outputs": [],
   "source": [
    "def plot_comparacao(x,y1,y2,y3,dataset,titulo):\n",
    "    sns.set_palette( 'Blues_r')\n",
    "    sns.set_style('darkgrid')\n",
    "    plt.figure(figsize=(16,12)) \n",
    "    grafico = plt.subplot(3,1,1)\n",
    "    grafico.set_title(titulo,fontsize=18,loc='left')\n",
    "    sns.lineplot(x=x, y=y1, data = dataset)\n",
    "    plt.subplot(3,1,2)\n",
    "    sns.lineplot(x=x, y=y2, data = dataset)\n",
    "    plt.subplot(3,1,3)\n",
    "    sns.lineplot(x=x, y=y3, data = dataset)\n",
    "    grafico=grafico"
   ]
  },
  {
   "cell_type": "code",
   "execution_count": null,
   "id": "10e4b4d4",
   "metadata": {},
   "outputs": [],
   "source": [
    "plot_comparacao('mes','Quantity','aumento','aceleracao',loja22_2020,'Análise de vendas da Loja 22 - 2018')"
   ]
  },
  {
   "cell_type": "code",
   "execution_count": null,
   "id": "f07aa786",
   "metadata": {},
   "outputs": [],
   "source": [
    "# selecao = (dd['ano']== 2018)\n",
    "# resultado= dd[selecao]\n",
    "# resultado.value_counts()\n",
    "# todas_vendas = dados.groupby(by=['StoreID','Date']).sum().groupby(level=[0]).cumsum()\n",
    "\n",
    "todas_vendas = dados.groupby(by=['StoreID','Date']).sum().reset_index()\n",
    "todas_vendas\n",
    "\n",
    "\n",
    "selecaoAno = (todas_vendas.Date.dt.month <=3) &( todas_vendas.StoreID == 1) & (todas_vendas.Date.dt.year == 2018)\n",
    "apenas_ano_selecionado = todas_vendas[selecaoAno]\n",
    "apenas_ano_selecionado\n",
    "\n",
    "plt.figure(figsize =(12,6))\n",
    "cores=['green','gold', 'red', 'lightskyblue', 'yellowgreen']\n",
    "plt.plot(apenas_ano_selecionado.Date,apenas_ano_selecionado['Total das Vendas'])\n",
    "plt.title(\"Análise das Vendas da Loja 1 no ano de 2018\",{'fontsize': 18})\n",
    "plt.ylabel(\"Valores(R$)\")\n",
    "plt.xlabel(\"Datas\" )\n",
    "plt.xticks(ticks=None, size='small', color='DarkBlue',rotation=40, ha=\"right\")\n",
    "plt.yticks(ticks=None, size='small', color='DarkBlue' ,ha=\"right\")\n",
    "plt.show()\n"
   ]
  },
  {
   "cell_type": "markdown",
   "id": "4dbf979e",
   "metadata": {},
   "source": [
    "# Função para criar um gráfico de uma simples:"
   ]
  },
  {
   "cell_type": "code",
   "execution_count": null,
   "id": "43951c7b",
   "metadata": {},
   "outputs": [],
   "source": [
    "def Grafico(loja,ano):\n",
    "    \n",
    "#     selecaoAno = ( todas_vendas.StoreID == f'{loja}') & f'{q}' & (todas_vendas.Date.dt.year == f\"{ano}\")\n",
    "#     apenas_ano_selecionado = todas_vendas[selecaoAno]\n",
    "\n",
    "    todas_vendas = dados.groupby(by=['StoreID','Date']).sum().reset_index()\n",
    "    \n",
    "    quarter =  ( todas_vendas.StoreID == loja) & (todas_vendas.Date.dt.month >= 1) & (todas_vendas.Date.dt.month <=3)& (todas_vendas.Date.dt.year == ano)\n",
    "    q1 = todas_vendas[quarter]\n",
    "    quarter2 = ( todas_vendas.StoreID == loja) &(todas_vendas.Date.dt.month >= 4) & (todas_vendas.Date.dt.month < 6)& (todas_vendas.Date.dt.year == ano)\n",
    "    q2 = todas_vendas[quarter2]\n",
    "    quarter3 = ( todas_vendas.StoreID == loja) &(todas_vendas.Date.dt.month >= 6) & (todas_vendas.Date.dt.month < 9)& (todas_vendas.Date.dt.year == ano)\n",
    "    q3 = todas_vendas[quarter3]\n",
    "    quarter4 = ( todas_vendas.StoreID == loja) &(todas_vendas.Date.dt.month >= 9) & (todas_vendas.Date.dt.month < 12)& (todas_vendas.Date.dt.year == ano)\n",
    "    q4 = todas_vendas[quarter4]    \n",
    "    \n",
    "    plt.figure(figsize=(10,5))\n",
    "    area = plt.figure()\n",
    "    g1 = area.add_subplot(4,1,1)\n",
    "    g1.set_title( \"1° Quarter\",fontsize=18,loc='center')\n",
    "    x= q1.Date\n",
    "    y= q1['Total das Vendas']\n",
    "    g1.plot(x,y)\n",
    "\n",
    "    \n",
    "    g2 = area.add_subplot(4,1,2)\n",
    "    g2.set_title(\"2° Quarter\",fontsize=18,loc='center')\n",
    "    x1= q2.Date\n",
    "    y1= q2['Total das Vendas']\n",
    "    g2.plot(x1,y1)\n",
    "    plt.tight_layout()\n",
    "    \n",
    "    g3 = area.add_subplot(4,1,3)\n",
    "    g3.set_title(\"3° Quarter\",fontsize=18,loc='center')\n",
    "    x2= q3.Date\n",
    "    y2= q3['Total das Vendas']\n",
    "    g3.plot(x2,y2)\n",
    "    plt.tight_layout()\n",
    "    \n",
    "    g4 = area.add_subplot(4,1,4)\n",
    "    g4.set_title(\"4° Quarter\",fontsize=18,loc='center')\n",
    "    x3= q4.Date\n",
    "    y3= q4['Total das Vendas']\n",
    "    g4.plot(x3,y3)\n",
    "    \n",
    "    g5 = area.add_subplot(4,1,4)\n",
    "    g5.set_title(\"4° Quarter\",fontsize=18,loc='center')\n",
    "    x3= q4.Date\n",
    "    y3= q4['Total das Vendas']\n",
    "    g5.plot(x3,y3)\n",
    "    \n",
    "    \n",
    "#     grafico.set_title(f\"{titulo}\",{'fontsize': 18})\n",
    "#     plt.ylabel(f\"{etiquetay}\")\n",
    "#     plt.xlabel(f\"{etiquetax}\" )\n",
    "#     plt.xticks(ticks=None, size='small', color='DarkBlue',rotation=40, ha=\"right\")\n",
    "#     plt.yticks(ticks=None, size='small', color='DarkBlue' ,ha=\"right\")\n",
    "    plt.tight_layout()\n",
    "#     plt.show()\n",
    "Grafico(1,2019)"
   ]
  },
  {
   "cell_type": "code",
   "execution_count": null,
   "id": "e3bd8eda",
   "metadata": {},
   "outputs": [],
   "source": [
    "# quarter =  (todas_vendas.Date.dt.month >= 1) & (todas_vendas.Date.dt.month < 4)\n",
    "# quarter2 = (todas_vendas.Date.dt.month >= 4) & (todas_vendas.Date.dt.month < 7)\n",
    "# quarter3 = (todas_vendas.Date.dt.month >= 6) & (todas_vendas.Date.dt.month < 10)\n",
    "# quarter4 = (todas_vendas.Date.dt.month >= 9) & (todas_vendas.Date.dt.month < 13)\n",
    "\n",
    "\n",
    "# selecao_dados_e_parametros = ( todas_vendas.StoreID == 1) & (todas_vendas.Date.dt.day <31) & (todas_vendas.Date.dt.year == 2018)\n",
    "# selecionados = todas_vendas[selecao_dados_e_parametros]\n",
    "# selecionados\n",
    "# # Adicionando o aumento\n",
    "# selecionados['Aumento'] = selecionados['Total das Vendas'].diff()\n",
    "# selecionados['Aceleracao'] = selecionados['Aumento'].diff()\n",
    "\n",
    "# selecionados\n"
   ]
  },
  {
   "cell_type": "code",
   "execution_count": null,
   "id": "4a424723",
   "metadata": {},
   "outputs": [],
   "source": [
    "plt.figure(figsize=(10,5))\n",
    "plt.figure()\n",
    "plt.title( \"Loja 1 Aumento das Vendas\",fontsize=12,loc='center')\n",
    "x= selecionados.Date\n",
    "y= selecionados['Aumento']\n",
    "plt.plot(x,y)"
   ]
  },
  {
   "cell_type": "code",
   "execution_count": null,
   "id": "7f6038af",
   "metadata": {},
   "outputs": [],
   "source": [
    "feriados =pd.read_csv('dados/feriados_nacionais.csv', encoding= 'unicode_escape',sep=';')\n",
    "feriados['Data']=pd.to_datetime(feriados['Data'],dayfirst=True)\n",
    "feriados.info"
   ]
  },
  {
   "cell_type": "code",
   "execution_count": null,
   "id": "5c4eff3c",
   "metadata": {},
   "outputs": [],
   "source": [
    "bd.head()"
   ]
  },
  {
   "cell_type": "code",
   "execution_count": null,
   "id": "c4fa1cc8",
   "metadata": {},
   "outputs": [],
   "source": [
    "# plt.rc('figure', figsize = (100,100))\n",
    "# selecao = (bd['Idade'] >=10) & (bd['Idade'] <= 90)\n",
    "# selecao = grupo_nomes[['Sex']].value_counts()\n",
    "selecao = bd.Name.value_counts()\n",
    "selecao\n",
    "# box=pd.DataFrame(selecao)\n",
    "# box.Batman\n",
    "\n",
    "# plt.plot(box['Name'], box['Sex'],  linestyle='--', color='r', marker='s',linewidth=3.0)\n",
    "# plt.axis([0,1,0,10])"
   ]
  },
  {
   "cell_type": "code",
   "execution_count": null,
   "id": "425f94cc",
   "metadata": {},
   "outputs": [],
   "source": [
    "plt.rcdefaults()\n",
    "fig, ax = plt.subplots()\n",
    "plt.rc('figure', figsize = (16,7))\n",
    "nome = bd.Name.value_counts()\n",
    "n1=nome.index.tolist() # Desta maneira ele pega todas as keys e coloca dentro de uma lista.\n",
    "quantidade_nomes = bd.Name.value_counts().values\n",
    "plt.plot(quantidade_nomes,n1,   linestyle='--', color='k', marker=',',markeredgecolor= 'r',markerfacecolor='b', markersize=20,linewidth=3.0)\n",
    "ax.invert_yaxis()  # labels read top-to-bottom\n",
    "ax.annotate(\"Produto Mais Vendido\", \n",
    "            xy=(1300, 0),\n",
    "            xycoords='data',\n",
    "            xytext=(1350, 1),\n",
    "            textcoords='data',\n",
    "            arrowprops=dict(arrowstyle=\"->\",connectionstyle=\"arc3\"))\n",
    "ax.annotate(\" A Maior Quantidade foi de  1420 produtos\", \n",
    "            xy=(1420, 0),\n",
    "            xycoords='data',\n",
    "            xytext=(1435, 10),\n",
    "            arrowprops=dict( arrowstyle = \"wedge,tail_width=0.7\" , \n",
    "                            fc = \"0.6\" ,  ec =\"none\" , \n",
    "                             connectionstyle = \"arc3,rad=-0.3\" ))\n",
    "\n",
    "\n",
    "ax.annotate('Produto mais vendido',\n",
    "                  xy=(1420, 0), xycoords='data',\n",
    "                  xytext=(55, 0), textcoords='offset points',\n",
    "                  size=20, va=\"center\",\n",
    "                  bbox=dict(boxstyle=\"round\", fc=(1.0, 0.7, 0.7), ec=\"none\"),\n",
    "                  arrowprops=dict(arrowstyle=\"wedge,tail_width=1.\",\n",
    "                                  fc=(1.0, 0.7, 0.7), ec=\"none\",\n",
    "                                  relpos=(0.2, 0.5)))\n",
    "ax.axvline(1420, ls='--', color='r')\n"
   ]
  },
  {
   "cell_type": "code",
   "execution_count": null,
   "id": "2c7d33df",
   "metadata": {},
   "outputs": [],
   "source": [
    "nome = bd.Name.value_counts()\n",
    "n1=nome.index.tolist() # Desta maneira ele pega todas as keys e coloca dentro de uma lista.\n",
    "quantidade_nomes = bd.Name.value_counts().values\n",
    "# quantidade_nomes,nome\n",
    "n1"
   ]
  },
  {
   "cell_type": "code",
   "execution_count": null,
   "id": "9c51c27e",
   "metadata": {},
   "outputs": [],
   "source": [
    "grupo_client = bd.groupby('ClientID')\n",
    "grupo_client.groups\n",
    "grupo_client[[ 'Name','Date']].value_counts()"
   ]
  },
  {
   "cell_type": "code",
   "execution_count": null,
   "id": "7d5494f5",
   "metadata": {},
   "outputs": [],
   "source": [
    "bd"
   ]
  },
  {
   "cell_type": "code",
   "execution_count": null,
   "id": "eb0a32b8",
   "metadata": {},
   "outputs": [],
   "source": [
    "plt.rcdefaults()\n",
    "fig, ax = plt.subplots()\n",
    "\n",
    "sexo = bd.Sex.value_counts()\n",
    "idade = bd.Idade.value_counts()\n",
    "\n",
    "\n",
    "\n",
    "# Example data\n",
    "people = nome.index.tolist()\n",
    "y_pos = np.arange(len(people))\n",
    "performance = bd.Name.value_counts().values\n",
    "\n",
    "\n",
    "ax.barh(y_pos, performance, align='center',color= 'xkcd:sky blue')\n",
    "ax.set_yticks(y_pos, labels=people)\n",
    "ax.invert_yaxis()  \n",
    "ax.set_xlabel('Quantidades')\n",
    "ax.set_title('Performace de produtos mais vendidos')\n",
    "ax.annotate(\"Maior performace de vendas\", \n",
    "            xy=(1405, 0),\n",
    "            xycoords='data',\n",
    "            xytext=(1510, 0),\n",
    "            textcoords='data',\n",
    "            arrowprops=dict(arrowstyle=\"->\",connectionstyle=\"arc3\"))\n",
    "# Linha vermelha no local com maior quantidade de venda.\n",
    "ax.axvline(1420, ls='--', color='r')\n",
    "\n",
    "plt.show()\n",
    "sexo"
   ]
  },
  {
   "cell_type": "code",
   "execution_count": null,
   "id": "ba9806e5",
   "metadata": {},
   "outputs": [],
   "source": [
    "# sns.lineplot(data=loja22, x=\"mes\", y=\"Quantity\", hue=\"ano\")\n",
    "\n",
    "# sns.lineplot(data=loja22_2018, x=\"mes\", y=\"Quantity\")\n",
    "\n",
    "plt.figure(figsize=(10,5))\n",
    "plt.figure()\n",
    "plt.title( \"Loja 1 Aumento das Vendas\",fontsize=12,loc='center')\n",
    "x= loja22_2018['mes']\n",
    "y= loja22_2018['Quantity']\n",
    "plt.plot(x,y)\n",
    "\n",
    "# sns.set_theme(style=\"ticks\", palette=\"pastel\")\n",
    "\n",
    "# Draw a nested boxplot to show bills by day and time\n",
    "# sns.catplot( kind=\"bar\",x=\"mes\", y=\"Quantity\",\n",
    "#             hue=\"ano\", palette=[\"m\", \"g\",'r'],\n",
    "#             data=loja22)\n",
    "# sns.despine(offset=10, trim=True)"
   ]
  },
  {
   "cell_type": "markdown",
   "id": "0eb054e8",
   "metadata": {},
   "source": [
    "# Uteis para utilizar os pandas"
   ]
  },
  {
   "cell_type": "code",
   "execution_count": null,
   "id": "71a25b60",
   "metadata": {},
   "outputs": [],
   "source": [
    "df = pd.DataFrame({'foo': ['one', 'one', 'one', 'two', 'two',\n",
    "                           'two'],\n",
    "                   'bar': ['A', 'B', 'C', 'A', 'B', 'C'],\n",
    "                   'baz': [1, 2, 3, 4, 5, 6],\n",
    "                   'zoo': ['x', 'y', 'z', 'q', 'w', 't']})\n",
    "df"
   ]
  },
  {
   "cell_type": "code",
   "execution_count": null,
   "id": "5fc1dca9",
   "metadata": {},
   "outputs": [],
   "source": [
    "df.pivot(index='foo', columns='bar')['baz']"
   ]
  },
  {
   "cell_type": "code",
   "execution_count": null,
   "id": "18caa7d6",
   "metadata": {},
   "outputs": [],
   "source": [
    "df.index"
   ]
  },
  {
   "cell_type": "code",
   "execution_count": null,
   "id": "834e4122",
   "metadata": {},
   "outputs": [],
   "source": [
    "lojas_relatorio_vendas = pd.pivot_table(loja, values='Quantity', index=['Name'], columns=['StoreID'], fill_value=0, aggfunc=sum)\n",
    "ri=lojas_relatorio_vendas.idxmax()\n",
    "rv = lojas_relatorio_vendas.max()\n",
    "# teste.iloc[1:7]\n",
    "# teste.style.highlight_max(color = 'lightgreen', axis = 0)\n",
    "# teste.index\n",
    "# teste.sort_values(by= 22, ascending=False).head(2)\n",
    "# teste.nlargest(2, 22)\n",
    "# teste.nlargest(2, 7)[[2,22]]"
   ]
  },
  {
   "cell_type": "code",
   "execution_count": null,
   "id": "100fedd9",
   "metadata": {},
   "outputs": [],
   "source": [
    "bd"
   ]
  },
  {
   "cell_type": "code",
   "execution_count": null,
   "id": "de34ac71",
   "metadata": {},
   "outputs": [],
   "source": [
    "#Colocando o index conseguimos escolher de uma forma mais facil qual coluna será nosso index\n",
    "teste = pd.read_excel('dados/Base de Dados - Questionário.xlsx', sheet_name=4, index_col =[1])\n",
    "teste.head()"
   ]
  },
  {
   "cell_type": "code",
   "execution_count": null,
   "id": "7a26fe37",
   "metadata": {},
   "outputs": [],
   "source": [
    "# criando uma nova coluna e colocando a inicial como resultado.\n",
    "teste = pd.read_excel('dados/Base de Dados - Questionário.xlsx', sheet_name=4)\n",
    "teste['Primeira Letra'] = teste['Name'].str[:1]\n",
    "teste['Primeira_Letra_State'] = teste['State'].str[:1]\n",
    "teste"
   ]
  },
  {
   "cell_type": "code",
   "execution_count": null,
   "id": "92e98d99",
   "metadata": {},
   "outputs": [],
   "source": [
    "# Conseguimos fazer uma selação de qual Name é Igual a Curitiba.\n",
    "# teste.loc[(teste['Name'] == 'Curitiba')]\n",
    "teste.loc[(teste['ID'] < 10) & (teste['Primeira_Letra_State'] == 'R')]\n",
    "\n",
    "# Ou podemos utilizar o Query, mas por enquanto só consegui utilizar com numeros.\n",
    "teste.query('ID < 10 and ID > 2' )\n",
    "\n",
    "# Para Transformar um query em String devemos utilizar na pegunta @ antes do valor que queremos convertewr.\n",
    "letra = 'R'\n",
    "teste.query('ID < 10 and Primeira_Letra_State == @letra' )"
   ]
  },
  {
   "cell_type": "code",
   "execution_count": null,
   "id": "717e9e6c",
   "metadata": {},
   "outputs": [],
   "source": [
    "# Seleção de uma coluna com uma condição.\n",
    "teste['Resultado'] = teste['ID'] >4\n",
    "teste"
   ]
  },
  {
   "cell_type": "code",
   "execution_count": null,
   "id": "472115b9",
   "metadata": {},
   "outputs": [],
   "source": [
    "# Criará uma nova coluna com o esponecial sobre o valor do ID ou seja ele vezes ele mesmo\n",
    "teste['teste'] = teste['ID'] ** 2\n",
    "teste"
   ]
  },
  {
   "cell_type": "code",
   "execution_count": null,
   "id": "9015110b",
   "metadata": {},
   "outputs": [],
   "source": [
    "# Para que não seja alterado nada em nosso DataFrame devemos utiliza o .copy()\n",
    "teste = teste.query('ID < 10')\n",
    "teste = teste.query('ID < 10').copy()\n",
    "teste['Ids'] = teste['Name'].str[-5:]\n",
    "teste"
   ]
  },
  {
   "cell_type": "code",
   "execution_count": null,
   "id": "7a1aa4fa",
   "metadata": {},
   "outputs": [],
   "source": [
    "#Fazer um filtro usando query,groupby, min() e sort_values()\n",
    "# Nesse caso peguei os ID menores que 10 e Agrupei pelo nome e o ID Minimo e organizei em ordem alfabetica pelo Name.\n",
    "teste_out =(teste.query('ID < 10').groupby(['Name'])[['ID']].min().sort_values('Name'))\n",
    "teste_out"
   ]
  },
  {
   "cell_type": "code",
   "execution_count": null,
   "id": "b7e8b5de",
   "metadata": {},
   "outputs": [],
   "source": [
    "# Criando uma nova coluna  com true e false caso o valor de teste for menor do que 12\n",
    "teste['Menores'] = teste['teste'] < 12\n",
    "\n",
    "# Mapeando com os nomes de True para Sim e False para Não\n",
    "teste['Menores'] =teste['Menores'].map({True:\"Sim\", False:\"Não\"})\n",
    "teste"
   ]
  },
  {
   "cell_type": "code",
   "execution_count": null,
   "id": "71609c7e",
   "metadata": {},
   "outputs": [],
   "source": [
    "teste['Upper'] = teste['Name'].str.upper()\n",
    "teste['Strip'] = teste['Name'].str.strip()\n",
    "teste['Lower'] = teste['Name'].str.lower()\n",
    "# teste['Replace'] = teste['Name'].str.replace()\n",
    "teste"
   ]
  },
  {
   "cell_type": "code",
   "execution_count": null,
   "id": "749073c9",
   "metadata": {},
   "outputs": [],
   "source": [
    "# Criando um grafico em apenas uma linha:\n",
    "ax =teste.plot(kind='bar',figsize = (10,5),x='ID',y='teste', title='ID Vs State')"
   ]
  },
  {
   "cell_type": "code",
   "execution_count": null,
   "id": "7c0bd6ad",
   "metadata": {},
   "outputs": [],
   "source": [
    "#Conseguimos selecionar por grupo e colocar com o AGG( Coun,max,min etc..)\n",
    "teste.groupby(['Name','ID'])[['teste']].agg(['count','max'])"
   ]
  },
  {
   "cell_type": "code",
   "execution_count": null,
   "id": "b897b310",
   "metadata": {},
   "outputs": [],
   "source": [
    "# Para Usar menos memória e ser mais rapido podemo utilizar os seguintes trnsformações em nosso dataframe:\n",
    "# df.to_parquet('output.parquet')\n",
    "# df.tofeather('output.feather')\n",
    "# df.to_pickle('output.pickle')"
   ]
  },
  {
   "cell_type": "code",
   "execution_count": null,
   "id": "59168cad",
   "metadata": {},
   "outputs": [],
   "source": [
    "# mudando cores em tabelas.\n",
    "teste.sort_values('ID').head(10)[['ID','Name','State','teste']].reset_index(drop=True).style.background_gradient(cmap='gist_heat')"
   ]
  },
  {
   "cell_type": "code",
   "execution_count": null,
   "id": "bd2c2014",
   "metadata": {},
   "outputs": [],
   "source": [
    "bd1 = bd['Sex'] = bd['Sex'].astype('category')\n",
    "bd1"
   ]
  },
  {
   "cell_type": "markdown",
   "id": "6efe26f7",
   "metadata": {},
   "source": [
    "### Testador de Encode para arquivos CSV que não funciona o UTF-8"
   ]
  },
  {
   "cell_type": "code",
   "execution_count": null,
   "id": "c794be13",
   "metadata": {},
   "outputs": [],
   "source": [
    "# encoding_list = ['ascii', 'big5', 'big5hkscs', 'cp037', 'cp273', 'cp424', 'cp437', 'cp500', 'cp720', 'cp737'\n",
    "#                  , 'cp775', 'cp850', 'cp852', 'cp855', 'cp856', 'cp857', 'cp858', 'cp860', 'cp861', 'cp862'\n",
    "#                  , 'cp863', 'cp864', 'cp865', 'cp866', 'cp869', 'cp874', 'cp875', 'cp932', 'cp949', 'cp950'\n",
    "#                  , 'cp1006', 'cp1026', 'cp1125', 'cp1140', 'cp1250', 'cp1251', 'cp1252', 'cp1253', 'cp1254'\n",
    "#                  , 'cp1255', 'cp1256', 'cp1257', 'cp1258', 'euc_jp', 'euc_jis_2004', 'euc_jisx0213', 'euc_kr'\n",
    "#                  , 'gb2312', 'gbk', 'gb18030', 'hz', 'iso2022_jp', 'iso2022_jp_1', 'iso2022_jp_2'\n",
    "#                  , 'iso2022_jp_2004', 'iso2022_jp_3', 'iso2022_jp_ext', 'iso2022_kr', 'latin_1', 'iso8859_2'\n",
    "#                  , 'iso8859_3', 'iso8859_4', 'iso8859_5', 'iso8859_6', 'iso8859_7', 'iso8859_8', 'iso8859_9'\n",
    "#                  , 'iso8859_10', 'iso8859_11', 'iso8859_13', 'iso8859_14', 'iso8859_15', 'iso8859_16', 'johab'\n",
    "#                  , 'koi8_r', 'koi8_t', 'koi8_u', 'kz1048', 'mac_cyrillic', 'mac_greek', 'mac_iceland', 'mac_latin2'\n",
    "#                  , 'mac_roman', 'mac_turkish', 'ptcp154', 'shift_jis', 'shift_jis_2004', 'shift_jisx0213', 'utf_32'\n",
    "#                  , 'utf_32_be', 'utf_32_le', 'utf_16', 'utf_16_be', 'utf_16_le', 'utf_7', 'utf_8', 'utf_8_sig','unicode_escape','windows-1252']\n",
    "\n",
    "encoding_list = [\"866\",\"cp866\",\"csibm866\",\"ibm866\",'ISO-8859-2',\"csisolatin2\",\"iso-8859-2\",\"iso-ir-101\",\n",
    "                 \"iso8859-2\",\"iso88592\",\"iso_8859-2\",\"iso_8859-2:1987\",\"l2\",\"latin2\",'ISO-8859-3',\"csisolatin3\",\n",
    "                 \"iso-8859-3\",\"iso-ir-109\",\"iso8859-3\",\"iso88593\",\"iso_8859-3\",\"iso_8859-3:1988\",\"l3\",\"latin3\",\n",
    "                 'ISO-8859-4',\"csisolatin4\",\"iso-8859-4\",\"iso-ir-110\",\"iso8859-4\",\"iso88594\",\"iso_8859-4\",\n",
    "                 \"iso_8859-4:1988\",\"l4\",\"latin4\",'ISO-8859-5',\"csisolatincyrillic\",\"cyrillic\",\"iso-8859-5\"\n",
    "                 ,\"iso-ir-144\",\"iso8859-5\",\"iso88595\",\"iso_8859-5\",\"iso_8859-5:1988\",'ISO-8859-6',\"arabic\"\n",
    "                 ,\"asmo-708\",\"csiso88596e\",\"csiso88596i\",\"csisolatinarabic\",\"ecma-114\",\"iso-8859-6\",\"iso-8859-6-e\"\n",
    "                 ,\"iso-8859-6-i\",\"iso-ir-127\",\"iso8859-6\",\"iso88596\",\"iso_8859-6\",\"iso_8859-6:1987\",'ISO-8859-7'\n",
    "                 ,\"csisolatingreek\",\"ecma-118\",\"elot_928\",\"greek\",\"greek8\",\"iso-8859-7\",\"iso-ir-126\",\"iso8859-7\"\n",
    "                 ,\"iso88597\",\"iso_8859-7\",\"iso_8859-7:1987\",\"sun_eu_greek\",'ISO-8859-8',\"csiso88598e\",\n",
    "                 \"csisolatinhebrew\",\"hebrew\",\"iso-8859-8\",\"iso-8859-8-e\",\"iso-ir-138\",\"iso8859-8\",\"iso88598\"\n",
    "                 ,\"iso_8859-8\",\"iso_8859-8:1988\",\"visual\",'ISO-8859-8-I',\"csiso88598i\",\"iso-8859-8-i\",\n",
    "                 \"logical\",'ISO-8859-10',\"csisolatin6\",\"iso-8859-10\",\"iso-ir-157\",\"iso8859-10\",\"iso885910\"\n",
    "                 ,\"l6\",\"latin6\",'ISO-8859-13',\"iso-8859-13\",\"iso8859-13\",\"iso885913\",'ISO-8859-14',\"iso-8859-14\"\n",
    "                 ,\"iso8859-14\",\"iso885914\",'ISO-8859-15',\"csisolatin9\",\"iso-8859-15\",\"iso8859-15\",\"iso885915\",\n",
    "                 \"iso_8859-15\",\"l9\",'ISO-8859-16',\"iso-8859-16\",'KOI8-R',\"cskoi8r\",\"koi\",\"koi8\",\"koi8-r\",\n",
    "                 \"koi8_r\",'KOI8-U',\"koi8-ru\",\"koi8-u\",'macintosh',\"csmacintosh\",\"mac\",\"macintosh\",\"x-mac-roman\"\n",
    "                 ,'windows-874',\"dos-874\",\"iso-8859-11\",\"iso8859-11\",\"iso885911\",\"tis-620\",\"windows-874\",\n",
    "                 'windows-1250',\"cp1250\",\"windows-1250\",\"x-cp1250\",'windows-1251',\"cp1251\",\"windows-1251\",\n",
    "                 \"x-cp1251\",'windows-1252',\"ansi_x3.4-1968\",\"ascii\",\"cp1252\",\"cp819\",\"csisolatin1\",\"ibm819\",\n",
    "                 \"iso-8859-1\",\"iso-ir-100\",\"iso8859-1\",\"iso88591\",\"iso_8859-1\",\"iso_8859-1:1987\",\"l1\",\"latin1\"\n",
    "                 ,\"us-ascii\",\"windows-1252\",\"x-cp1252\",'windows-1253',\"cp1253\",\"windows-1253\",\"x-cp1253\",'windows-1254'\n",
    "                 ,\"cp1254\",\"csisolatin5\",\"iso-8859-9\",\"iso-ir-148\",\"iso8859-9\",\"iso88599\",\"iso_8859-9\",\"iso_8859-9:1989\"\n",
    "                 ,\"l5\",\"latin5\",\"windows-1254\",\"x-cp1254\",'windows-1255',\"cp1255\",\"windows-1255\",\"x-cp1255\",'windows-1256'\n",
    "                 ,\"cp1256\",\"windows-1256\",\"x-cp1256\",'windows-1257',\"cp1257\",\"windows-1257\",\"x-cp1257\",'windows-1258',\n",
    "                 \"cp1258\",\"windows-1258\",\"x-cp1258\",'x-mac-cyrillic',\"x-mac-cyrillic\",\"x-mac-ukrainian\"]\n",
    "\n",
    "\n",
    "for encoding in encoding_list:\n",
    "    worked = True\n",
    "    try:\n",
    "#         df = pd.read_csv(path, , nrows=5)\n",
    "        feriados_nacionais = pd.read_csv('dados/feriados_nacionais.csv', encoding=encoding,sep=';',parse_dates=['Data'],dayfirst=True)\n",
    "    except:\n",
    "        worked = False\n",
    "    if worked:\n",
    "        print(encoding, ':\\n', feriados_nacionais.head())"
   ]
  },
  {
   "cell_type": "code",
   "execution_count": null,
   "id": "a42762ce",
   "metadata": {},
   "outputs": [],
   "source": [
    "sns.boxplot(x=loja1, y=loja2, data=dataset)\n",
    "# sns.boxplot(x='Type', y='AdoptionSpeed', data=dataset, hue='Gender')\n",
    "# sns.boxplot(x='Type', y='Fee', data=dataset)"
   ]
  },
  {
   "cell_type": "code",
   "execution_count": null,
   "id": "69bbadc9",
   "metadata": {},
   "outputs": [],
   "source": [
    "sns.stripplot(x='Gender', y='Age', data=df)\n",
    "sns.stripplot(x='Gender', y='Age', data=df, hue='Type', split=True)\n",
    "sns.swarmplot(x='Gender', y='Age', data=df)"
   ]
  },
  {
   "cell_type": "code",
   "execution_count": 41,
   "id": "4565f5c1",
   "metadata": {},
   "outputs": [],
   "source": [
    "# Paleta de cores no Seaborn\n",
    "# [‘Accent’, ‘Accent_r’, ‘Blues’, ‘Blues_r’, ‘BrBG’, ‘BrBG_r’, ‘BuGn’, ‘BuGn_r’, ‘BuPu’, ‘BuPu_r’, \n",
    "#  ‘CMRmap’, ‘CMRmap_r’, ‘Dark2’, ‘Dark2_r’, ‘GnBu’, ‘GnBu_r’, ‘Greens’, ‘Greens_r’, ‘Greys’, ‘Greys_r’, ‘OrRd’, \n",
    "#  ‘OrRd_r’, ‘Oranges’, ‘Oranges_r’, ‘PRGn’, ‘PRGn_r’, ‘Paired’, ‘Paired_r’, ‘Pastel1’, \n",
    "#  ‘Pastel1_r’, ‘Pastel2’, ‘Pastel2_r’, ‘PiYG’, ‘PiYG_r’, ‘PuBu’, ‘PuBuGn’, ‘PuBuGn_r’, \n",
    "#  ‘PuBu_r’, ‘PuOr’, ‘PuOr_r’, ‘PuRd’, ‘PuRd_r’, ‘Purples’, ‘Purples_r’, ‘RdBu’, ‘RdBu_r’, \n",
    "#  ‘RdGy’, ‘RdGy_r’, ‘RdPu’, ‘RdPu_r’, ‘RdYlBu’, ‘RdYlBu_r’, ‘RdYlGn’, ‘RdYlGn_r’, ‘Reds’, \n",
    "#  ‘Reds_r’, ‘Set1’, ‘Set1_r’, ‘Set2’, ‘Set2_r’, ‘Set3’, ‘Set3_r’, ‘Spectral’, ‘Spectral_r’, \n",
    "#  ‘Wistia’, ‘Wistia_r’, ‘YlGn’, ‘YlGnBu’, ‘YlGnBu_r’, ‘YlGn_r’, ‘YlOrBr’, ‘YlOrBr_r’, ‘YlOrRd’, \n",
    "#  ‘YlOrRd_r’, ‘afmhot’, ‘afmhot_r’, ‘autumn’, ‘autumn_r’, ‘binary’, ‘binary_r’, ‘bone’, \n",
    "#  ‘bone_r’, ‘brg’, ‘brg_r’, ‘bwr’, ‘bwr_r’, ‘cividis’, ‘cividis_r’, ‘cool’, ‘cool_r’, ‘coolwarm’, ‘coolwarm_r’, ‘copper’, ‘copper_r’,\n",
    "#  ‘cubehelix’, ‘cubehelix_r’, ‘flag’, ‘flag_r’, ‘gist_earth’, ‘gist_earth_r’, ‘gist_gray’, ‘gist_gray_r’, ‘gist_heat’, ‘gist_heat_r’, ‘gist_ncar’, ‘gist_ncar_r’,\n",
    "#  ‘gist_rainbow’, ‘gist_rainbow_r’, ‘gist_stern’, ‘gist_stern_r’, ‘gist_yarg’, \n",
    "#  ‘gist_yarg_r’, ‘gnuplot’, ‘gnuplot2’, ‘gnuplot2_r’, ‘gnuplot_r’, ‘gray’, ‘gray_r’,\n",
    "#  ‘hot’, ‘hot_r’, ‘hsv’, ‘hsv_r’, ‘icefire’, ‘icefire_r’, ‘inferno’, \n",
    "#  ‘inferno_r’, ‘magma’, ‘magma_r’, ‘mako’, ‘mako_r’, \n",
    "#  ‘nipy_spectral’, ‘nipy_spectral_r’, ‘ocean’, ‘ocean_r’, ‘pink’, ‘pink_r’,\n",
    "#  ‘plasma’, ‘plasma_r’, ‘prism’, ‘prism_r’, ‘rainbow’, ‘rainbow_r’,\n",
    "#  ‘rocket’, ‘rocket_r’, ‘seismic’, ‘seismic_r’, ‘spring’, ‘spring_r’,\n",
    "#  ‘summer’, ‘summer_r’, ‘tab10’, ‘tab10_r’, ‘tab20’, ‘tab20_r’, ‘tab20b’,\n",
    "#  ‘tab20b_r’, ‘tab20c’, ‘tab20c_r’, ‘terrain’, ‘terrain_r’, ‘twilight’,\n",
    "#  ‘twilight_r’, ‘twilight_shifted’, ‘twilight_shifted_r’, ‘viridis’, ‘viridis_r’, ‘vlag’, ‘vlag_r’, ‘winter’, ‘winter_r’]"
   ]
  },
  {
   "cell_type": "code",
   "execution_count": 42,
   "id": "8be0ac99",
   "metadata": {},
   "outputs": [
    {
     "data": {
      "image/png": "[encoded data removed]",
      "text/plain": [
       "<Figure size 720x1440 with 1 Axes>"
      ]
     },
     "metadata": {},
     "output_type": "display_data"
    }
   ],
   "source": [
    "import matplotlib.pyplot as plt\n",
    "import matplotlib.patches as patches\n",
    "import matplotlib.colors as colors\n",
    "import math\n",
    "fig = plt.figure(figsize =(10,20))\n",
    "ax = fig.add_subplot(111)\n",
    "ratio = 1.0 / 3.0\n",
    "count = math.ceil(math.sqrt(len(colors.cnames)))\n",
    "x_count = count * ratio\n",
    "y_count = count / ratio\n",
    "x = 0\n",
    "y = 0\n",
    "w = 1 / x_count\n",
    "h = 1 / y_count\n",
    "for cl in colors.cnames:\n",
    "    pos = (x / x_count, y / y_count)\n",
    "    ax.add_patch(patches.Rectangle(pos, w, h, color=cl))\n",
    "    ax.annotate(cl, xy=pos)\n",
    "    if y >= y_count-1:\n",
    "        x += 1\n",
    "        y = 0\n",
    "    else:\n",
    "        y += 1\n",
    "plt.show()"
   ]
  },
  {
   "cell_type": "code",
   "execution_count": 43,
   "id": "f1000556",
   "metadata": {},
   "outputs": [],
   "source": [
    "# Converter o jupyter em html e apenas os saidas sem o código.\n",
    "#!jupyter nbconvert --to html --no-input \"Projeto - Análise de uma rede de lojas\".ipynb"
   ]
  },
  {
   "cell_type": "code",
   "execution_count": null,
   "id": "b2d61467",
   "metadata": {},
   "outputs": [],
   "source": []
  }
 ],
 "metadata": {
  "kernelspec": {
   "display_name": "Python 3 (ipykernel)",
   "language": "python",
   "name": "python3"
  },
  "language_info": {
   "codemirror_mode": {
    "name": "ipython",
    "version": 3
   },
   "file_extension": ".py",
   "mimetype": "text/x-python",
   "name": "python",
   "nbconvert_exporter": "python",
   "pygments_lexer": "ipython3",
   "version": "3.9.12"
  }
 },
 "nbformat": 4,
 "nbformat_minor": 5
}
